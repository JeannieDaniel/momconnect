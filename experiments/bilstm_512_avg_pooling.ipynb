{
 "cells": [
  {
   "cell_type": "markdown",
   "metadata": {},
   "source": [
    "### Bi-directional LSTM with average pooling \n",
    "\n",
    "Author: Jeanne Elizabeth Daniel\n",
    "\n",
    "November 2019\n",
    "\n",
    "We make use of a bi-directional LSTM networks that extends the modelling capabilities of the vanilla LSTM. This approach is similar to that of InferSent (Conneau et al. 2017) where the authors combine bi-directional LSTM models with pooling layers to produce high-quality sentence embeddings. In addition to InferSent, we attach a dense classification layer after the pooling layers."
   ]
  },
  {
   "cell_type": "code",
   "execution_count": 1,
   "metadata": {},
   "outputs": [],
   "source": [
    "import sys\n",
    "import os\n",
    "#sys.path.append(os.path.join(\\\"..\\\")) # path to source relative to current directory\""
   ]
  },
  {
   "cell_type": "code",
   "execution_count": 3,
   "metadata": {},
   "outputs": [],
   "source": [
    "import numpy as np\n",
    "import gensim"
   ]
  },
  {
   "cell_type": "code",
   "execution_count": 4,
   "metadata": {},
   "outputs": [],
   "source": [
    "import preprocess_data\n",
    "import pandas as pd"
   ]
  },
  {
   "cell_type": "code",
   "execution_count": 24,
   "metadata": {},
   "outputs": [],
   "source": [
    "import tensorflow as tf\n",
    "physical_devices = tf.config.experimental.list_physical_devices(\"GPU\")\n",
    "tf.config.experimental.set_memory_growth(physical_devices[0], True)\n",
    "from tensorflow.keras.models import Model\n",
    "from tensorflow.keras.preprocessing import sequence\n",
    "from tensorflow.keras.models import Sequential\n",
    "from tensorflow.keras.layers import GlobalAveragePooling1D, GlobalMaxPooling1D\n",
    "from tensorflow.keras.layers import Dense, Dropout, Embedding, LSTM, Bidirectional, TimeDistributed, Input, Flatten, AdditiveAttention"
   ]
  },
  {
   "cell_type": "code",
   "execution_count": 85,
   "metadata": {},
   "outputs": [],
   "source": [
    "from tensorflow.keras.callbacks import EarlyStopping, ModelCheckpoint"
   ]
  },
  {
   "cell_type": "code",
   "execution_count": 5,
   "metadata": {},
   "outputs": [],
   "source": [
    "data = pd.read_csv('dataset_7B', delimiter = ';', engine = 'python')\n",
    "data_text = data.loc[data['set'] == 'Train'][['helpdesk_question']]\n",
    "number_of_classes = data.loc[data['set'] == 'Train']['helpdesk_reply'].value_counts().shape[0]\n",
    "data = data[['helpdesk_question', 'helpdesk_reply', 'set', 'low_resource']] "
   ]
  },
  {
   "cell_type": "code",
   "execution_count": 6,
   "metadata": {},
   "outputs": [],
   "source": [
    "responses = pd.DataFrame(data.loc[data['set'] == 'Train']['helpdesk_reply'].value_counts()).reset_index()\n",
    "responses['reply'] = responses['index']\n",
    "responses['index'] = responses.index\n",
    "responses = dict(responses.set_index('reply')['index'])"
   ]
  },
  {
   "cell_type": "code",
   "execution_count": 7,
   "metadata": {},
   "outputs": [
    {
     "data": {
      "text/plain": [
       "89"
      ]
     },
     "execution_count": 7,
     "metadata": {},
     "output_type": "execute_result"
    }
   ],
   "source": [
    "len(responses)"
   ]
  },
  {
   "cell_type": "code",
   "execution_count": 8,
   "metadata": {},
   "outputs": [],
   "source": [
    "data_text['index'] = data_text.index\n",
    "documents = data_text"
   ]
  },
  {
   "cell_type": "code",
   "execution_count": 9,
   "metadata": {},
   "outputs": [],
   "source": [
    "dictionary = preprocess_data.create_dictionary(data_text, 1, 0.25, 95000) #our entire vocabulary"
   ]
  },
  {
   "cell_type": "code",
   "execution_count": 10,
   "metadata": {},
   "outputs": [],
   "source": [
    "df_train = data.loc[data['set'] == 'Train']\n",
    "df_train = df_train.reset_index()[['helpdesk_question', 'helpdesk_reply']]\n",
    "\n",
    "df_valid = data.loc[data['set'] == 'Valid']\n",
    "df_valid = df_valid.reset_index()[['helpdesk_question', 'helpdesk_reply']]\n",
    "\n",
    "df_test = data.loc[data['set'] == 'Test']\n",
    "df_test = df_test.reset_index()[['helpdesk_question', 'helpdesk_reply']]\n",
    "\n",
    "df_LR = data.loc[(data['set'] == 'Test') & (data['low_resource'] == 'True') ]\n",
    "df_LR = df_LR.reset_index()[['helpdesk_question', 'helpdesk_reply']]"
   ]
  },
  {
   "cell_type": "code",
   "execution_count": 11,
   "metadata": {},
   "outputs": [
    {
     "data": {
      "text/plain": [
       "(96412, 2)"
      ]
     },
     "execution_count": 11,
     "metadata": {},
     "output_type": "execute_result"
    }
   ],
   "source": [
    "df_train.shape"
   ]
  },
  {
   "cell_type": "code",
   "execution_count": 12,
   "metadata": {},
   "outputs": [],
   "source": [
    "unique_words = dictionary"
   ]
  },
  {
   "cell_type": "code",
   "execution_count": 13,
   "metadata": {},
   "outputs": [
    {
     "data": {
      "text/plain": [
       "57545"
      ]
     },
     "execution_count": 13,
     "metadata": {},
     "output_type": "execute_result"
    }
   ],
   "source": [
    "len(unique_words) + 1"
   ]
  },
  {
   "cell_type": "code",
   "execution_count": 14,
   "metadata": {},
   "outputs": [],
   "source": [
    "max_length = 30\n",
    "min_token_length = 0"
   ]
  },
  {
   "cell_type": "code",
   "execution_count": 15,
   "metadata": {},
   "outputs": [],
   "source": [
    "word_to_id, id_to_word = preprocess_data.create_lookup_tables(unique_words)"
   ]
  },
  {
   "cell_type": "markdown",
   "metadata": {},
   "source": [
    "#### Transforming the input sentence into a sequence of word IDs"
   ]
  },
  {
   "cell_type": "code",
   "execution_count": 16,
   "metadata": {},
   "outputs": [
    {
     "name": "stdout",
     "output_type": "stream",
     "text": [
      "(96412, 30, 1)\n"
     ]
    }
   ],
   "source": [
    "train_x_word_ids = []\n",
    "for question in df_train['helpdesk_question'].apply(preprocess_data.preprocess_question, \n",
    "                                                    args = [unique_words, min_token_length]):\n",
    "    word_ids = preprocess_data.transform_sequence_to_word_ids(question, word_to_id)\n",
    "    train_x_word_ids.append(np.array(word_ids, dtype = float))\n",
    "train_x_word_ids = np.stack(train_x_word_ids)\n",
    "print(train_x_word_ids.shape)\n",
    "    \n",
    "val_x_word_ids = []\n",
    "for question in data['helpdesk_question'].loc[data['set'] == 'Valid'].apply(preprocess_data.preprocess_question, \n",
    "                                                                          args = [unique_words, min_token_length]):\n",
    "    word_ids = preprocess_data.transform_sequence_to_word_ids(question, word_to_id)\n",
    "    val_x_word_ids.append(np.array(word_ids, dtype = float))\n",
    "val_x_word_ids = np.stack(val_x_word_ids)\n",
    "\n",
    "test_x_word_ids = []\n",
    "for question in data['helpdesk_question'].loc[data['set'] == 'Test'].apply(preprocess_data.preprocess_question, \n",
    "                                                                          args = [unique_words, min_token_length]):\n",
    "    word_ids = preprocess_data.transform_sequence_to_word_ids(question, word_to_id)\n",
    "    test_x_word_ids.append(np.array(word_ids, dtype = float))\n",
    "    \n",
    "test_x_word_ids = np.stack(test_x_word_ids)\n",
    "\n",
    "LR_x_word_ids = []\n",
    "for question in data['helpdesk_question'].loc[(data['set'] == 'Test') & \n",
    "                                              (data['low_resource'] == 'True')].apply(preprocess_data.preprocess_question, \n",
    "                                                                          args = [unique_words, min_token_length]):\n",
    "    word_ids = preprocess_data.transform_sequence_to_word_ids(question, word_to_id)\n",
    "    LR_x_word_ids.append(np.array(word_ids, dtype = float))\n",
    "LR_x_word_ids = np.stack(LR_x_word_ids)"
   ]
  },
  {
   "cell_type": "code",
   "execution_count": 17,
   "metadata": {},
   "outputs": [],
   "source": [
    "def get_dummies(reply, all_responses):\n",
    "    \n",
    "    \"\"\" Constructs a one-hot vector for replies\n",
    "    \n",
    "    Args:\n",
    "        reply: query item \n",
    "        all_responses: dict containing all the template responses with their corresponding IDs\n",
    "    \n",
    "    Return:\n",
    "        a one-hot vector where the corresponding ID of the reply is the one-hot index\n",
    "    \n",
    "    \"\"\"\n",
    "    \n",
    "    Y = np.zeros(len(all_responses), dtype = int)\n",
    "    Y[all_responses[reply]] += 1\n",
    "    return Y "
   ]
  },
  {
   "cell_type": "code",
   "execution_count": 18,
   "metadata": {},
   "outputs": [],
   "source": [
    "train_y = np.array(list(df_train['helpdesk_reply'].apply(get_dummies, args = [responses])))\n",
    "valid_y = np.array(list(df_valid['helpdesk_reply'].apply(get_dummies, args = [responses])))\n",
    "test_y  = np.array(list(df_test['helpdesk_reply'].apply(get_dummies,  args = [responses])))\n",
    "LR_y    = np.array(list(df_LR['helpdesk_reply'].apply(get_dummies,         args = [responses])))"
   ]
  },
  {
   "cell_type": "code",
   "execution_count": 19,
   "metadata": {},
   "outputs": [],
   "source": [
    "train_x_word_ids = train_x_word_ids.reshape(train_x_word_ids.shape[:-1])\n",
    "val_x_word_ids   = val_x_word_ids.reshape(val_x_word_ids.shape[:-1])\n",
    "test_x_word_ids  = test_x_word_ids.reshape(test_x_word_ids.shape[:-1])\n",
    "LR_x_word_ids    = LR_x_word_ids.reshape(LR_x_word_ids.shape[:-1])"
   ]
  },
  {
   "cell_type": "markdown",
   "metadata": {},
   "source": [
    "#### Transform vectors where the input sentence yields a sequence of length 0"
   ]
  },
  {
   "cell_type": "code",
   "execution_count": 20,
   "metadata": {},
   "outputs": [],
   "source": [
    "train_zero_vectors = np.where(train_x_word_ids.sum(axis = 1) == 0.0)[0]\n",
    "for t in range(train_zero_vectors.shape[0]):\n",
    "    train_x_word_ids[train_zero_vectors[t]][0] += 1"
   ]
  },
  {
   "cell_type": "code",
   "execution_count": 21,
   "metadata": {},
   "outputs": [],
   "source": [
    "val_zero_vectors = np.where(val_x_word_ids.sum(axis = 1) == 0.0)[0]\n",
    "for t in range(val_zero_vectors.shape[0]):\n",
    "    val_x_word_ids[val_zero_vectors[t]][0] += 1"
   ]
  },
  {
   "cell_type": "markdown",
   "metadata": {},
   "source": [
    "#### Bi-directional LSTM with average pooling\n",
    "\n",
    "The network consists of an embedding layer, followed by a dropout layer. This is followed by an bi-directional LSTM layer that outputs a variable-length sequence of embedding vectors. To construct a single sentence embedding from the sequence we use average pooling. The sentence embedding is then fed to a classification layer. We train with a dropout rate of 0.5 and batch size of 32. During training we use early stopping and Adadelta as our optimization algorithm. This network has an embedding of size 300 and 512 hidden units in the biLSTM network. "
   ]
  },
  {
   "cell_type": "code",
   "execution_count": 82,
   "metadata": {},
   "outputs": [],
   "source": [
    "def bilstm_avg_pooling_network(max_features, input_length=30, embed_dim=100, lstm_units=512):\n",
    "    \n",
    "    \"\"\" Constructs a bi-directional LSTM network with average pooling\n",
    "    \n",
    "    Args:\n",
    "        max_features: size of vocabulary\n",
    "        input_length: length of input sequence\n",
    "        embed_dim: dimension of the embedding vector\n",
    "        lstm_units: number of hidden units in biLSTM\n",
    "        \n",
    "        \n",
    "    Returns:\n",
    "        An biLSTM model\n",
    "    \n",
    "    \"\"\"\n",
    "    \n",
    "    inputs = Input(shape=(input_length, ))\n",
    "    x = Embedding(max_features, output_dim=embed_dim, input_length=input_length, mask_zero=True)(inputs)\n",
    "    x = (Dropout(rate = 0.5))(x)\n",
    "    x = Bidirectional(LSTM(lstm_units, activation = 'tanh', return_sequences=True,\n",
    "                           dropout=0.25, recurrent_dropout=0.5))(x)\n",
    "    x = GlobalAveragePooling1D()(x)        \n",
    "    outputs = Dense(89, activation='softmax')(x)\n",
    "    return Model(inputs=inputs, outputs=outputs)\n"
   ]
  },
  {
   "cell_type": "code",
   "execution_count": 83,
   "metadata": {
    "scrolled": true
   },
   "outputs": [],
   "source": [
    "max_features = len(unique_words) + 1\n",
    "model = bilstm_avg_pooling_network(max_features, embed_dim=300, input_length=30, lstm_units = 512)"
   ]
  },
  {
   "cell_type": "code",
   "execution_count": 84,
   "metadata": {},
   "outputs": [
    {
     "name": "stdout",
     "output_type": "stream",
     "text": [
      "Model: \"model_6\"\n",
      "_________________________________________________________________\n",
      "Layer (type)                 Output Shape              Param #   \n",
      "=================================================================\n",
      "input_7 (InputLayer)         [(None, 30)]              0         \n",
      "_________________________________________________________________\n",
      "embedding_6 (Embedding)      (None, 30, 300)           17263500  \n",
      "_________________________________________________________________\n",
      "dropout_6 (Dropout)          (None, 30, 300)           0         \n",
      "_________________________________________________________________\n",
      "bidirectional_6 (Bidirection (None, 30, 1024)          3330048   \n",
      "_________________________________________________________________\n",
      "global_average_pooling1d_6 ( (None, 1024)              0         \n",
      "_________________________________________________________________\n",
      "dense_6 (Dense)              (None, 89)                91225     \n",
      "=================================================================\n",
      "Total params: 20,684,773\n",
      "Trainable params: 20,684,773\n",
      "Non-trainable params: 0\n",
      "_________________________________________________________________\n"
     ]
    }
   ],
   "source": [
    "model.summary()"
   ]
  },
  {
   "cell_type": "markdown",
   "metadata": {},
   "source": [
    "### Training"
   ]
  },
  {
   "cell_type": "code",
   "execution_count": 86,
   "metadata": {},
   "outputs": [],
   "source": [
    "es = EarlyStopping(monitor='val_accuracy', verbose=1, restore_best_weights=True, patience=10)\n",
    "model.compile(loss='categorical_crossentropy', #optimizer = 'sgd',\n",
    "              optimizer=tf.keras.optimizers.Adadelta(learning_rate=0.5, rho=0.95),\n",
    "              metrics=['accuracy'])"
   ]
  },
  {
   "cell_type": "code",
   "execution_count": 88,
   "metadata": {
    "scrolled": true
   },
   "outputs": [
    {
     "name": "stdout",
     "output_type": "stream",
     "text": [
      "Train on 96412 samples, validate on 31955 samples\n",
      "Epoch 1/500\n",
      "96412/96412 [==============================] - 468s 5ms/sample - loss: 2.8206 - accuracy: 0.3796 - val_loss: 2.3393 - val_accuracy: 0.4461\n",
      "Epoch 2/500\n",
      "96412/96412 [==============================] - 468s 5ms/sample - loss: 2.2025 - accuracy: 0.4655 - val_loss: 2.0555 - val_accuracy: 0.4813\n",
      "Epoch 3/500\n",
      "96412/96412 [==============================] - 467s 5ms/sample - loss: 1.9776 - accuracy: 0.4977 - val_loss: 1.8818 - val_accuracy: 0.5113\n",
      "Epoch 4/500\n",
      "96412/96412 [==============================] - 467s 5ms/sample - loss: 1.8319 - accuracy: 0.5199 - val_loss: 1.7763 - val_accuracy: 0.5266\n",
      "Epoch 5/500\n",
      "96412/96412 [==============================] - 466s 5ms/sample - loss: 1.7241 - accuracy: 0.5380 - val_loss: 1.6989 - val_accuracy: 0.5411\n",
      "Epoch 6/500\n",
      "96412/96412 [==============================] - 466s 5ms/sample - loss: 1.6399 - accuracy: 0.5529 - val_loss: 1.6406 - val_accuracy: 0.5501\n",
      "Epoch 7/500\n",
      "96412/96412 [==============================] - 464s 5ms/sample - loss: 1.5687 - accuracy: 0.5643 - val_loss: 1.5946 - val_accuracy: 0.5579\n",
      "Epoch 8/500\n",
      "96412/96412 [==============================] - 418s 4ms/sample - loss: 1.5055 - accuracy: 0.5769 - val_loss: 1.5602 - val_accuracy: 0.5652\n",
      "Epoch 9/500\n",
      "96412/96412 [==============================] - 387s 4ms/sample - loss: 1.4506 - accuracy: 0.5899 - val_loss: 1.5289 - val_accuracy: 0.5711\n",
      "Epoch 10/500\n",
      "96412/96412 [==============================] - 389s 4ms/sample - loss: 1.4032 - accuracy: 0.5975 - val_loss: 1.5101 - val_accuracy: 0.5776\n",
      "Epoch 11/500\n",
      "96412/96412 [==============================] - 388s 4ms/sample - loss: 1.3604 - accuracy: 0.6083 - val_loss: 1.4988 - val_accuracy: 0.5764\n",
      "Epoch 12/500\n",
      "96412/96412 [==============================] - 388s 4ms/sample - loss: 1.3223 - accuracy: 0.6181 - val_loss: 1.4866 - val_accuracy: 0.5851\n",
      "Epoch 13/500\n",
      "96412/96412 [==============================] - 389s 4ms/sample - loss: 1.2903 - accuracy: 0.6247 - val_loss: 1.4766 - val_accuracy: 0.5829\n",
      "Epoch 14/500\n",
      "96412/96412 [==============================] - 390s 4ms/sample - loss: 1.2531 - accuracy: 0.6337 - val_loss: 1.4690 - val_accuracy: 0.5890\n",
      "Epoch 15/500\n",
      "96412/96412 [==============================] - 387s 4ms/sample - loss: 1.2225 - accuracy: 0.6414 - val_loss: 1.4568 - val_accuracy: 0.5917\n",
      "Epoch 16/500\n",
      "96412/96412 [==============================] - 385s 4ms/sample - loss: 1.1924 - accuracy: 0.6489 - val_loss: 1.4548 - val_accuracy: 0.5923\n",
      "Epoch 17/500\n",
      "96412/96412 [==============================] - 384s 4ms/sample - loss: 1.1615 - accuracy: 0.6572 - val_loss: 1.4552 - val_accuracy: 0.5914\n",
      "Epoch 18/500\n",
      "96412/96412 [==============================] - 385s 4ms/sample - loss: 1.1341 - accuracy: 0.6612 - val_loss: 1.4410 - val_accuracy: 0.5966\n",
      "Epoch 19/500\n",
      "96412/96412 [==============================] - 382s 4ms/sample - loss: 1.1081 - accuracy: 0.6688 - val_loss: 1.4509 - val_accuracy: 0.5962\n",
      "Epoch 20/500\n",
      "96412/96412 [==============================] - 380s 4ms/sample - loss: 1.0845 - accuracy: 0.6766 - val_loss: 1.4428 - val_accuracy: 0.5990\n",
      "Epoch 21/500\n",
      "96412/96412 [==============================] - 378s 4ms/sample - loss: 1.0591 - accuracy: 0.6840 - val_loss: 1.4538 - val_accuracy: 0.5970\n",
      "Epoch 22/500\n",
      "96412/96412 [==============================] - 376s 4ms/sample - loss: 1.0370 - accuracy: 0.6889 - val_loss: 1.4465 - val_accuracy: 0.6017\n",
      "Epoch 23/500\n",
      "96412/96412 [==============================] - 376s 4ms/sample - loss: 1.0155 - accuracy: 0.6944 - val_loss: 1.4430 - val_accuracy: 0.6053\n",
      "Epoch 24/500\n",
      "96412/96412 [==============================] - 323s 3ms/sample - loss: 0.9955 - accuracy: 0.7008 - val_loss: 1.4571 - val_accuracy: 0.6036\n",
      "Epoch 25/500\n",
      "96412/96412 [==============================] - 313s 3ms/sample - loss: 0.9732 - accuracy: 0.7066 - val_loss: 1.4573 - val_accuracy: 0.6023\n",
      "Epoch 26/500\n",
      "96412/96412 [==============================] - 314s 3ms/sample - loss: 0.9548 - accuracy: 0.7126 - val_loss: 1.4584 - val_accuracy: 0.6011\n",
      "Epoch 27/500\n",
      "96412/96412 [==============================] - 313s 3ms/sample - loss: 0.9332 - accuracy: 0.7191 - val_loss: 1.4675 - val_accuracy: 0.6066\n",
      "Epoch 28/500\n",
      "96412/96412 [==============================] - 313s 3ms/sample - loss: 0.9170 - accuracy: 0.7225 - val_loss: 1.4725 - val_accuracy: 0.6054\n",
      "Epoch 29/500\n",
      "96412/96412 [==============================] - 312s 3ms/sample - loss: 0.8990 - accuracy: 0.7282 - val_loss: 1.4812 - val_accuracy: 0.6027\n",
      "Epoch 30/500\n",
      "96412/96412 [==============================] - 312s 3ms/sample - loss: 0.8814 - accuracy: 0.7345 - val_loss: 1.4882 - val_accuracy: 0.6059\n",
      "Epoch 31/500\n",
      "96412/96412 [==============================] - 312s 3ms/sample - loss: 0.8676 - accuracy: 0.7358 - val_loss: 1.4837 - val_accuracy: 0.6075\n",
      "Epoch 32/500\n",
      "96412/96412 [==============================] - 312s 3ms/sample - loss: 0.8516 - accuracy: 0.7429 - val_loss: 1.4957 - val_accuracy: 0.6076\n",
      "Epoch 33/500\n",
      "96412/96412 [==============================] - 311s 3ms/sample - loss: 0.8380 - accuracy: 0.7452 - val_loss: 1.5065 - val_accuracy: 0.6052\n",
      "Epoch 34/500\n",
      "96412/96412 [==============================] - 311s 3ms/sample - loss: 0.8243 - accuracy: 0.7494 - val_loss: 1.5191 - val_accuracy: 0.6072\n",
      "Epoch 35/500\n",
      "96412/96412 [==============================] - 312s 3ms/sample - loss: 0.8100 - accuracy: 0.7522 - val_loss: 1.5207 - val_accuracy: 0.6100\n",
      "Epoch 36/500\n",
      "96412/96412 [==============================] - 309s 3ms/sample - loss: 0.7964 - accuracy: 0.7561 - val_loss: 1.5189 - val_accuracy: 0.6045\n",
      "Epoch 37/500\n",
      "96412/96412 [==============================] - 312s 3ms/sample - loss: 0.7863 - accuracy: 0.7622 - val_loss: 1.5219 - val_accuracy: 0.6101\n",
      "Epoch 38/500\n",
      "96412/96412 [==============================] - 312s 3ms/sample - loss: 0.7755 - accuracy: 0.7644 - val_loss: 1.5251 - val_accuracy: 0.6086\n",
      "Epoch 39/500\n",
      "96412/96412 [==============================] - 361s 4ms/sample - loss: 0.7633 - accuracy: 0.7675 - val_loss: 1.5392 - val_accuracy: 0.6087\n",
      "Epoch 40/500\n",
      "96412/96412 [==============================] - 282s 3ms/sample - loss: 0.7509 - accuracy: 0.7699 - val_loss: 1.5477 - val_accuracy: 0.6042\n",
      "Epoch 41/500\n",
      "96412/96412 [==============================] - 377s 4ms/sample - loss: 0.7394 - accuracy: 0.7743 - val_loss: 1.5530 - val_accuracy: 0.6100\n",
      "Epoch 42/500\n",
      "96412/96412 [==============================] - 383s 4ms/sample - loss: 0.7309 - accuracy: 0.7769 - val_loss: 1.5584 - val_accuracy: 0.6103\n",
      "Epoch 43/500\n",
      "96412/96412 [==============================] - 383s 4ms/sample - loss: 0.7210 - accuracy: 0.7797 - val_loss: 1.5848 - val_accuracy: 0.6069\n",
      "Epoch 44/500\n",
      "96412/96412 [==============================] - 382s 4ms/sample - loss: 0.7098 - accuracy: 0.7846 - val_loss: 1.5856 - val_accuracy: 0.6067\n",
      "Epoch 45/500\n",
      "96412/96412 [==============================] - 382s 4ms/sample - loss: 0.7011 - accuracy: 0.7853 - val_loss: 1.5906 - val_accuracy: 0.6071\n",
      "Epoch 46/500\n",
      "96412/96412 [==============================] - 384s 4ms/sample - loss: 0.6940 - accuracy: 0.7862 - val_loss: 1.5872 - val_accuracy: 0.6071\n",
      "Epoch 47/500\n",
      "96412/96412 [==============================] - 384s 4ms/sample - loss: 0.6806 - accuracy: 0.7915 - val_loss: 1.6113 - val_accuracy: 0.6085\n",
      "Epoch 48/500\n",
      "96412/96412 [==============================] - 385s 4ms/sample - loss: 0.6759 - accuracy: 0.7926 - val_loss: 1.5924 - val_accuracy: 0.6099\n",
      "Epoch 49/500\n",
      "96412/96412 [==============================] - 384s 4ms/sample - loss: 0.6651 - accuracy: 0.7955 - val_loss: 1.6239 - val_accuracy: 0.6096\n",
      "Epoch 50/500\n",
      "96412/96412 [==============================] - 384s 4ms/sample - loss: 0.6591 - accuracy: 0.7973 - val_loss: 1.6127 - val_accuracy: 0.6079\n",
      "Epoch 51/500\n",
      "96412/96412 [==============================] - 384s 4ms/sample - loss: 0.6509 - accuracy: 0.7997 - val_loss: 1.6276 - val_accuracy: 0.6074\n",
      "Epoch 52/500\n",
      "96384/96412 [============================>.] - ETA: 0s - loss: 0.6413 - accuracy: 0.8025Restoring model weights from the end of the best epoch.\n",
      "96412/96412 [==============================] - 385s 4ms/sample - loss: 0.6414 - accuracy: 0.8025 - val_loss: 1.6328 - val_accuracy: 0.6084\n",
      "Epoch 00052: early stopping\n"
     ]
    },
    {
     "data": {
      "text/plain": [
       "<tensorflow.python.keras.callbacks.History at 0x7fa0dfa28518>"
      ]
     },
     "execution_count": 88,
     "metadata": {},
     "output_type": "execute_result"
    }
   ],
   "source": [
    "model.fit(train_x_word_ids, train_y, \n",
    "          batch_size=32,\n",
    "          epochs=500,\n",
    "          callbacks=[es],\n",
    "          validation_data=[val_x_word_ids, valid_y])"
   ]
  },
  {
   "cell_type": "markdown",
   "metadata": {},
   "source": [
    "### Test score "
   ]
  },
  {
   "cell_type": "code",
   "execution_count": 89,
   "metadata": {},
   "outputs": [],
   "source": [
    "def classifier_score_top_1(word_ids, y_true, model):\n",
    "    \n",
    "    \"\"\" Computes top-1 classification accuracy for model.\n",
    "    \n",
    "    Args:\n",
    "        word_ids: matrix where each row is \n",
    "        y_true: true labels\n",
    "        model: trained model\n",
    "    \n",
    "    Returns:\n",
    "        None\n",
    "    \n",
    "    \"\"\"\n",
    "    \n",
    "    score = 0\n",
    "    probs = model.predict(word_ids)\n",
    "    for i in range(word_ids.shape[0]):\n",
    "        if y_true[i].argmax() == np.argsort(probs[i])[-1]:\n",
    "            score += 1\n",
    "        \n",
    "    print(\"Overall Accuracy:\", score/word_ids.shape[0])"
   ]
  },
  {
   "cell_type": "code",
   "execution_count": 90,
   "metadata": {},
   "outputs": [
    {
     "name": "stdout",
     "output_type": "stream",
     "text": [
      "Overall Accuracy: 0.6123537989017467\n"
     ]
    }
   ],
   "source": [
    "classifier_score_top_1(test_x_word_ids, test_y, model)"
   ]
  },
  {
   "cell_type": "markdown",
   "metadata": {},
   "source": [
    "### LR test score"
   ]
  },
  {
   "cell_type": "code",
   "execution_count": 91,
   "metadata": {},
   "outputs": [
    {
     "name": "stdout",
     "output_type": "stream",
     "text": [
      "Overall Accuracy: 0.5336538461538461\n"
     ]
    }
   ],
   "source": [
    "classifier_score_top_1(LR_x_word_ids, LR_y, model)"
   ]
  },
  {
   "cell_type": "markdown",
   "metadata": {},
   "source": [
    "### Top-5 accuracy"
   ]
  },
  {
   "cell_type": "code",
   "execution_count": 92,
   "metadata": {},
   "outputs": [],
   "source": [
    "def classifier_score_top_5(word_ids, y_true, model):\n",
    "    \n",
    "    \"\"\" Computes top-5 classification accuracy for model.\n",
    "    \n",
    "    Args:\n",
    "        word_ids: matrix where each row is \n",
    "        y_true: true labels\n",
    "        model: trained model\n",
    "        \n",
    "    Returns:\n",
    "        None\n",
    "    \n",
    "    \"\"\"\n",
    "    \n",
    "    score = 0\n",
    "    probs = model.predict(word_ids)\n",
    "    for i in range(word_ids.shape[0]):\n",
    "        if y_true[i].argmax() in np.argsort(probs[i])[-5:]:\n",
    "            score += 1\n",
    "        \n",
    "    print(\"Overall Accuracy:\", score/word_ids.shape[0])"
   ]
  },
  {
   "cell_type": "code",
   "execution_count": 93,
   "metadata": {},
   "outputs": [
    {
     "name": "stdout",
     "output_type": "stream",
     "text": [
      "Overall Accuracy: 0.900009307231719\n"
     ]
    }
   ],
   "source": [
    "classifier_score_top_5(test_x_word_ids, test_y, model)"
   ]
  },
  {
   "cell_type": "code",
   "execution_count": 94,
   "metadata": {},
   "outputs": [
    {
     "name": "stdout",
     "output_type": "stream",
     "text": [
      "Overall Accuracy: 0.8013822115384616\n"
     ]
    }
   ],
   "source": [
    "classifier_score_top_5(LR_x_word_ids, LR_y, model)"
   ]
  }
 ],
 "metadata": {
  "kernelspec": {
   "display_name": "Python 3",
   "language": "python",
   "name": "python3"
  },
  "language_info": {
   "codemirror_mode": {
    "name": "ipython",
    "version": 3
   },
   "file_extension": ".py",
   "mimetype": "text/x-python",
   "name": "python",
   "nbconvert_exporter": "python",
   "pygments_lexer": "ipython3",
   "version": "3.6.8"
  }
 },
 "nbformat": 4,
 "nbformat_minor": 2
}
