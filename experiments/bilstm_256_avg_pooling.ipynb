{
 "cells": [
  {
   "cell_type": "markdown",
   "metadata": {},
   "source": [
    "### Bi-directional LSTM with average pooling \n",
    "\n",
    "Author: Jeanne Elizabeth Daniel\n",
    "\n",
    "November 2019\n",
    "\n",
    "We make use of a bi-directional LSTM networks that extends the modelling capabilities of the vanilla LSTM. This approach is similar to that of InferSent (Conneau et al. 2017) where the authors combine bi-directional LSTM models with pooling layers to produce high-quality sentence embeddings. In addition to InferSent, we attach a dense classification layer after the pooling layers."
   ]
  },
  {
   "cell_type": "code",
   "execution_count": 1,
   "metadata": {},
   "outputs": [],
   "source": [
    "import sys\n",
    "import os\n",
    "#sys.path.append(os.path.join(\\\"..\\\")) # path to source relative to current directory\""
   ]
  },
  {
   "cell_type": "code",
   "execution_count": 24,
   "metadata": {},
   "outputs": [],
   "source": [
    "import tensorflow as tf\n",
    "physical_devices = tf.config.experimental.list_physical_devices(\"GPU\")\n",
    "tf.config.experimental.set_memory_growth(physical_devices[0], True)\n",
    "from tensorflow.keras.models import Model\n",
    "from tensorflow.keras.preprocessing import sequence\n",
    "from tensorflow.keras.models import Sequential\n",
    "from tensorflow.keras.layers import GlobalAveragePooling1D, GlobalMaxPooling1D\n",
    "from tensorflow.keras.layers import Dense, Dropout, Embedding, LSTM, Bidirectional, TimeDistributed, Input, Flatten, AdditiveAttention"
   ]
  },
  {
   "cell_type": "code",
   "execution_count": 88,
   "metadata": {},
   "outputs": [],
   "source": [
    "from tensorflow.keras.callbacks import EarlyStopping, ModelCheckpoint"
   ]
  },
  {
   "cell_type": "code",
   "execution_count": 3,
   "metadata": {},
   "outputs": [],
   "source": [
    "import numpy as np\n",
    "import gensim"
   ]
  },
  {
   "cell_type": "code",
   "execution_count": 4,
   "metadata": {},
   "outputs": [],
   "source": [
    "import preprocess_data\n",
    "import pandas as pd"
   ]
  },
  {
   "cell_type": "code",
   "execution_count": 5,
   "metadata": {},
   "outputs": [],
   "source": [
    "data = pd.read_csv('dataset_7B', delimiter = ';', engine = 'python')\n",
    "data_text = data.loc[data['set'] == 'Train'][['helpdesk_question']]\n",
    "number_of_classes = data.loc[data['set'] == 'Train']['helpdesk_reply'].value_counts().shape[0]\n",
    "data = data[['helpdesk_question', 'helpdesk_reply', 'set', 'low_resource']] "
   ]
  },
  {
   "cell_type": "code",
   "execution_count": 6,
   "metadata": {},
   "outputs": [],
   "source": [
    "responses = pd.DataFrame(data.loc[data['set'] == 'Train']['helpdesk_reply'].value_counts()).reset_index()\n",
    "responses['reply'] = responses['index']\n",
    "responses['index'] = responses.index\n",
    "responses = dict(responses.set_index('reply')['index'])"
   ]
  },
  {
   "cell_type": "code",
   "execution_count": 7,
   "metadata": {},
   "outputs": [
    {
     "data": {
      "text/plain": [
       "89"
      ]
     },
     "execution_count": 7,
     "metadata": {},
     "output_type": "execute_result"
    }
   ],
   "source": [
    "len(responses)"
   ]
  },
  {
   "cell_type": "code",
   "execution_count": 8,
   "metadata": {},
   "outputs": [],
   "source": [
    "data_text['index'] = data_text.index\n",
    "documents = data_text"
   ]
  },
  {
   "cell_type": "code",
   "execution_count": 9,
   "metadata": {},
   "outputs": [],
   "source": [
    "dictionary = preprocess_data.create_dictionary(data_text, 1, 0.25, 95000) #our entire vocabulary"
   ]
  },
  {
   "cell_type": "code",
   "execution_count": 10,
   "metadata": {},
   "outputs": [],
   "source": [
    "df_train = data.loc[data['set'] == 'Train']\n",
    "df_train = df_train.reset_index()[['helpdesk_question', 'helpdesk_reply']]\n",
    "\n",
    "df_valid = data.loc[data['set'] == 'Valid']\n",
    "df_valid = df_valid.reset_index()[['helpdesk_question', 'helpdesk_reply']]\n",
    "\n",
    "df_test = data.loc[data['set'] == 'Test']\n",
    "df_test = df_test.reset_index()[['helpdesk_question', 'helpdesk_reply']]\n",
    "\n",
    "df_LR = data.loc[(data['set'] == 'Test') & (data['low_resource'] == 'True') ]\n",
    "df_LR = df_LR.reset_index()[['helpdesk_question', 'helpdesk_reply']]"
   ]
  },
  {
   "cell_type": "code",
   "execution_count": 12,
   "metadata": {},
   "outputs": [],
   "source": [
    "unique_words = dictionary"
   ]
  },
  {
   "cell_type": "code",
   "execution_count": 13,
   "metadata": {},
   "outputs": [
    {
     "data": {
      "text/plain": [
       "57545"
      ]
     },
     "execution_count": 13,
     "metadata": {},
     "output_type": "execute_result"
    }
   ],
   "source": [
    "len(unique_words) + 1"
   ]
  },
  {
   "cell_type": "code",
   "execution_count": 14,
   "metadata": {},
   "outputs": [],
   "source": [
    "max_length = 30\n",
    "min_token_length = 0"
   ]
  },
  {
   "cell_type": "code",
   "execution_count": 15,
   "metadata": {},
   "outputs": [],
   "source": [
    "word_to_id, id_to_word = preprocess_data.create_lookup_tables(unique_words)"
   ]
  },
  {
   "cell_type": "markdown",
   "metadata": {},
   "source": [
    "#### Transforming the input sentence into a sequence of word IDs"
   ]
  },
  {
   "cell_type": "code",
   "execution_count": 16,
   "metadata": {},
   "outputs": [
    {
     "name": "stdout",
     "output_type": "stream",
     "text": [
      "(96412, 30, 1)\n"
     ]
    }
   ],
   "source": [
    "train_x_word_ids = []\n",
    "for question in df_train['helpdesk_question'].apply(preprocess_data.preprocess_question, \n",
    "                                                    args = [unique_words, min_token_length]):\n",
    "    word_ids = preprocess_data.transform_sequence_to_word_ids(question, word_to_id)\n",
    "    train_x_word_ids.append(np.array(word_ids, dtype = float))\n",
    "train_x_word_ids = np.stack(train_x_word_ids)\n",
    "print(train_x_word_ids.shape)\n",
    "    \n",
    "val_x_word_ids = []\n",
    "for question in data['helpdesk_question'].loc[data['set'] == 'Valid'].apply(preprocess_data.preprocess_question, \n",
    "                                                                          args = [unique_words, min_token_length]):\n",
    "    word_ids = preprocess_data.transform_sequence_to_word_ids(question, word_to_id)\n",
    "    val_x_word_ids.append(np.array(word_ids, dtype = float))\n",
    "val_x_word_ids = np.stack(val_x_word_ids)\n",
    "\n",
    "test_x_word_ids = []\n",
    "for question in data['helpdesk_question'].loc[data['set'] == 'Test'].apply(preprocess_data.preprocess_question, \n",
    "                                                                          args = [unique_words, min_token_length]):\n",
    "    word_ids = preprocess_data.transform_sequence_to_word_ids(question, word_to_id)\n",
    "    test_x_word_ids.append(np.array(word_ids, dtype = float))\n",
    "    \n",
    "test_x_word_ids = np.stack(test_x_word_ids)\n",
    "\n",
    "LR_x_word_ids = []\n",
    "for question in data['helpdesk_question'].loc[(data['set'] == 'Test') & \n",
    "                                              (data['low_resource'] == 'True')].apply(preprocess_data.preprocess_question, \n",
    "                                                                          args = [unique_words, min_token_length]):\n",
    "    word_ids = preprocess_data.transform_sequence_to_word_ids(question, word_to_id)\n",
    "    LR_x_word_ids.append(np.array(word_ids, dtype = float))\n",
    "LR_x_word_ids = np.stack(LR_x_word_ids)"
   ]
  },
  {
   "cell_type": "code",
   "execution_count": 17,
   "metadata": {},
   "outputs": [],
   "source": [
    "def get_dummies(reply, all_responses):\n",
    "    \n",
    "    \"\"\" Constructs a one-hot vector for replies\n",
    "    \n",
    "    Args:\n",
    "        reply: query item \n",
    "        all_responses: dict containing all the template responses with their corresponding IDs\n",
    "    \n",
    "    Return:\n",
    "        a one-hot vector where the corresponding ID of the reply is the one-hot index\n",
    "    \n",
    "    \"\"\"\n",
    "    \n",
    "    Y = np.zeros(len(all_responses), dtype = int)\n",
    "    Y[all_responses[reply]] += 1\n",
    "    return Y "
   ]
  },
  {
   "cell_type": "code",
   "execution_count": 18,
   "metadata": {},
   "outputs": [],
   "source": [
    "train_y = np.array(list(df_train['helpdesk_reply'].apply(get_dummies, args = [responses])))\n",
    "valid_y = np.array(list(df_valid['helpdesk_reply'].apply(get_dummies, args = [responses])))\n",
    "test_y  = np.array(list(df_test['helpdesk_reply'].apply(get_dummies,  args = [responses])))\n",
    "LR_y    = np.array(list(df_LR['helpdesk_reply'].apply(get_dummies,         args = [responses])))"
   ]
  },
  {
   "cell_type": "code",
   "execution_count": 19,
   "metadata": {},
   "outputs": [],
   "source": [
    "train_x_word_ids = train_x_word_ids.reshape(train_x_word_ids.shape[:-1])\n",
    "val_x_word_ids   = val_x_word_ids.reshape(val_x_word_ids.shape[:-1])\n",
    "test_x_word_ids  = test_x_word_ids.reshape(test_x_word_ids.shape[:-1])\n",
    "LR_x_word_ids    = LR_x_word_ids.reshape(LR_x_word_ids.shape[:-1])"
   ]
  },
  {
   "cell_type": "markdown",
   "metadata": {},
   "source": [
    "#### Transform vectors where the input sentence yields a sequence of length 0"
   ]
  },
  {
   "cell_type": "code",
   "execution_count": 20,
   "metadata": {},
   "outputs": [],
   "source": [
    "train_zero_vectors = np.where(train_x_word_ids.sum(axis = 1) == 0.0)[0]\n",
    "for t in range(train_zero_vectors.shape[0]):\n",
    "    train_x_word_ids[train_zero_vectors[t]][0] += 1"
   ]
  },
  {
   "cell_type": "code",
   "execution_count": 21,
   "metadata": {},
   "outputs": [],
   "source": [
    "val_zero_vectors = np.where(val_x_word_ids.sum(axis = 1) == 0.0)[0]\n",
    "for t in range(val_zero_vectors.shape[0]):\n",
    "    val_x_word_ids[val_zero_vectors[t]][0] += 1"
   ]
  },
  {
   "cell_type": "markdown",
   "metadata": {},
   "source": [
    "#### Bi-directional LSTM with average pooling\n",
    "\n",
    "The network consists of an embedding layer, followed by a dropout layer. This is followed by an bi-directional LSTM layer that outputs a variable-length sequence of embedding vectors. To construct a single sentence embedding from the sequence we use average pooling. The sentence embedding is then fed to a classification layer. We train with a dropout rate of 0.5 and batch size of 32. During training we use early stopping and Adadelta as our optimization algorithm. This network has an embedding of size 300 and 256 hidden units in the biLSTM network. "
   ]
  },
  {
   "cell_type": "code",
   "execution_count": 85,
   "metadata": {},
   "outputs": [],
   "source": [
    "def bilstm_avg_pooling_network(max_features, input_length=30, embed_dim=100, lstm_units=512):\n",
    "    \n",
    "    \"\"\" Constructs a bi-directional LSTM network with average pooling\n",
    "    \n",
    "    Args:\n",
    "        max_features: size of vocabulary\n",
    "        input_length: length of input sequence\n",
    "        embed_dim: dimension of the embedding vector\n",
    "        lstm_units: number of hidden units in biLSTM\n",
    "        \n",
    "        \n",
    "    Returns:\n",
    "        An biLSTM model\n",
    "    \n",
    "    \"\"\"\n",
    "    \n",
    "    inputs = Input(shape=(input_length, ))\n",
    "    x = Embedding(max_features, output_dim=embed_dim, input_length=input_length, mask_zero=True)(inputs)\n",
    "    x = (Dropout(rate = 0.5))(x)\n",
    "    x = Bidirectional(LSTM(lstm_units, activation = 'tanh', return_sequences=True,\n",
    "                           dropout=0.25, recurrent_dropout=0.5))(x)\n",
    "    x = GlobalAveragePooling1D()(x)        \n",
    "    outputs = Dense(89, activation='softmax')(x)\n",
    "    return Model(inputs=inputs, outputs=outputs)\n"
   ]
  },
  {
   "cell_type": "code",
   "execution_count": 86,
   "metadata": {
    "scrolled": true
   },
   "outputs": [],
   "source": [
    "max_features = len(unique_words) + 1\n",
    "model = bilstm_avg_pooling_network(max_features, embed_dim=300, input_length=30, lstm_units = 256)"
   ]
  },
  {
   "cell_type": "code",
   "execution_count": 87,
   "metadata": {},
   "outputs": [
    {
     "name": "stdout",
     "output_type": "stream",
     "text": [
      "Model: \"model_6\"\n",
      "_________________________________________________________________\n",
      "Layer (type)                 Output Shape              Param #   \n",
      "=================================================================\n",
      "input_7 (InputLayer)         [(None, 30)]              0         \n",
      "_________________________________________________________________\n",
      "embedding_6 (Embedding)      (None, 30, 300)           17263500  \n",
      "_________________________________________________________________\n",
      "dropout_6 (Dropout)          (None, 30, 300)           0         \n",
      "_________________________________________________________________\n",
      "bidirectional_6 (Bidirection (None, 30, 512)           1140736   \n",
      "_________________________________________________________________\n",
      "global_average_pooling1d_6 ( (None, 512)               0         \n",
      "_________________________________________________________________\n",
      "dense_6 (Dense)              (None, 89)                45657     \n",
      "=================================================================\n",
      "Total params: 18,449,893\n",
      "Trainable params: 18,449,893\n",
      "Non-trainable params: 0\n",
      "_________________________________________________________________\n"
     ]
    }
   ],
   "source": [
    "model.summary()"
   ]
  },
  {
   "cell_type": "markdown",
   "metadata": {},
   "source": [
    "### Training"
   ]
  },
  {
   "cell_type": "code",
   "execution_count": 89,
   "metadata": {},
   "outputs": [],
   "source": [
    "es = EarlyStopping(monitor='val_accuracy', verbose=1, restore_best_weights=True, patience=10)\n",
    "model.compile(loss='categorical_crossentropy', #optimizer = 'sgd',\n",
    "              optimizer=tf.keras.optimizers.Adadelta(learning_rate=0.5, rho=0.95),\n",
    "              metrics=['accuracy'])"
   ]
  },
  {
   "cell_type": "code",
   "execution_count": 91,
   "metadata": {
    "scrolled": true
   },
   "outputs": [
    {
     "name": "stdout",
     "output_type": "stream",
     "text": [
      "Train on 96412 samples, validate on 31955 samples\n",
      "Epoch 1/500\n",
      "96412/96412 [==============================] - 469s 5ms/sample - loss: 2.8611 - accuracy: 0.3785 - val_loss: 2.3674 - val_accuracy: 0.4433\n",
      "Epoch 2/500\n",
      "96412/96412 [==============================] - 469s 5ms/sample - loss: 2.2175 - accuracy: 0.4660 - val_loss: 2.0405 - val_accuracy: 0.4894\n",
      "Epoch 3/500\n",
      "96412/96412 [==============================] - 469s 5ms/sample - loss: 1.9712 - accuracy: 0.5000 - val_loss: 1.8765 - val_accuracy: 0.5135\n",
      "Epoch 4/500\n",
      "96412/96412 [==============================] - 467s 5ms/sample - loss: 1.8209 - accuracy: 0.5241 - val_loss: 1.7695 - val_accuracy: 0.5300\n",
      "Epoch 5/500\n",
      "96412/96412 [==============================] - 466s 5ms/sample - loss: 1.7103 - accuracy: 0.5425 - val_loss: 1.6938 - val_accuracy: 0.5434\n",
      "Epoch 6/500\n",
      "96412/96412 [==============================] - 468s 5ms/sample - loss: 1.6205 - accuracy: 0.5590 - val_loss: 1.6355 - val_accuracy: 0.5472\n",
      "Epoch 7/500\n",
      "96412/96412 [==============================] - 467s 5ms/sample - loss: 1.5497 - accuracy: 0.5693 - val_loss: 1.5835 - val_accuracy: 0.5627\n",
      "Epoch 8/500\n",
      "96412/96412 [==============================] - 410s 4ms/sample - loss: 1.4827 - accuracy: 0.5835 - val_loss: 1.5523 - val_accuracy: 0.5655\n",
      "Epoch 9/500\n",
      "96412/96412 [==============================] - 390s 4ms/sample - loss: 1.4299 - accuracy: 0.5966 - val_loss: 1.5248 - val_accuracy: 0.5754\n",
      "Epoch 10/500\n",
      "96412/96412 [==============================] - 392s 4ms/sample - loss: 1.3778 - accuracy: 0.6074 - val_loss: 1.5031 - val_accuracy: 0.5808\n",
      "Epoch 11/500\n",
      "96412/96412 [==============================] - 389s 4ms/sample - loss: 1.3366 - accuracy: 0.6158 - val_loss: 1.4864 - val_accuracy: 0.5834\n",
      "Epoch 12/500\n",
      "96412/96412 [==============================] - 390s 4ms/sample - loss: 1.2932 - accuracy: 0.6265 - val_loss: 1.4823 - val_accuracy: 0.5840\n",
      "Epoch 13/500\n",
      "96412/96412 [==============================] - 388s 4ms/sample - loss: 1.2566 - accuracy: 0.6349 - val_loss: 1.4644 - val_accuracy: 0.5874\n",
      "Epoch 14/500\n",
      "96412/96412 [==============================] - 390s 4ms/sample - loss: 1.2212 - accuracy: 0.6436 - val_loss: 1.4527 - val_accuracy: 0.5947\n",
      "Epoch 15/500\n",
      "96412/96412 [==============================] - 390s 4ms/sample - loss: 1.1905 - accuracy: 0.6529 - val_loss: 1.4501 - val_accuracy: 0.5959\n",
      "Epoch 16/500\n",
      "96412/96412 [==============================] - 389s 4ms/sample - loss: 1.1630 - accuracy: 0.6578 - val_loss: 1.4398 - val_accuracy: 0.5943\n",
      "Epoch 17/500\n",
      "96412/96412 [==============================] - 391s 4ms/sample - loss: 1.1317 - accuracy: 0.6659 - val_loss: 1.4386 - val_accuracy: 0.6008\n",
      "Epoch 18/500\n",
      "96412/96412 [==============================] - 388s 4ms/sample - loss: 1.1036 - accuracy: 0.6744 - val_loss: 1.4371 - val_accuracy: 0.5989\n",
      "Epoch 19/500\n",
      "96412/96412 [==============================] - 389s 4ms/sample - loss: 1.0806 - accuracy: 0.6795 - val_loss: 1.4334 - val_accuracy: 0.6000\n",
      "Epoch 20/500\n",
      "96412/96412 [==============================] - 390s 4ms/sample - loss: 1.0534 - accuracy: 0.6887 - val_loss: 1.4397 - val_accuracy: 0.6002\n",
      "Epoch 21/500\n",
      "96412/96412 [==============================] - 386s 4ms/sample - loss: 1.0269 - accuracy: 0.6947 - val_loss: 1.4400 - val_accuracy: 0.6046\n",
      "Epoch 22/500\n",
      "96412/96412 [==============================] - 384s 4ms/sample - loss: 1.0066 - accuracy: 0.7011 - val_loss: 1.4485 - val_accuracy: 0.6038\n",
      "Epoch 23/500\n",
      "96412/96412 [==============================] - 382s 4ms/sample - loss: 0.9840 - accuracy: 0.7060 - val_loss: 1.4349 - val_accuracy: 0.6047\n",
      "Epoch 24/500\n",
      "96412/96412 [==============================] - 322s 3ms/sample - loss: 0.9697 - accuracy: 0.7118 - val_loss: 1.4454 - val_accuracy: 0.6042\n",
      "Epoch 25/500\n",
      "96412/96412 [==============================] - 323s 3ms/sample - loss: 0.9477 - accuracy: 0.7172 - val_loss: 1.4518 - val_accuracy: 0.6082\n",
      "Epoch 26/500\n",
      "96412/96412 [==============================] - 323s 3ms/sample - loss: 0.9268 - accuracy: 0.7222 - val_loss: 1.4570 - val_accuracy: 0.6024\n",
      "Epoch 27/500\n",
      "96412/96412 [==============================] - 323s 3ms/sample - loss: 0.9082 - accuracy: 0.7268 - val_loss: 1.4555 - val_accuracy: 0.6074\n",
      "Epoch 28/500\n",
      "96412/96412 [==============================] - 322s 3ms/sample - loss: 0.8935 - accuracy: 0.7313 - val_loss: 1.4637 - val_accuracy: 0.6076\n",
      "Epoch 29/500\n",
      "96412/96412 [==============================] - 323s 3ms/sample - loss: 0.8760 - accuracy: 0.7366 - val_loss: 1.4615 - val_accuracy: 0.6081\n",
      "Epoch 30/500\n",
      "96412/96412 [==============================] - 324s 3ms/sample - loss: 0.8602 - accuracy: 0.7417 - val_loss: 1.4675 - val_accuracy: 0.6071\n",
      "Epoch 31/500\n",
      "96412/96412 [==============================] - 323s 3ms/sample - loss: 0.8479 - accuracy: 0.7462 - val_loss: 1.4704 - val_accuracy: 0.6102\n",
      "Epoch 32/500\n",
      "96412/96412 [==============================] - 324s 3ms/sample - loss: 0.8374 - accuracy: 0.7486 - val_loss: 1.4759 - val_accuracy: 0.6091\n",
      "Epoch 33/500\n",
      "96412/96412 [==============================] - 324s 3ms/sample - loss: 0.8218 - accuracy: 0.7548 - val_loss: 1.4857 - val_accuracy: 0.6068\n",
      "Epoch 34/500\n",
      "96412/96412 [==============================] - 324s 3ms/sample - loss: 0.8081 - accuracy: 0.7552 - val_loss: 1.4956 - val_accuracy: 0.6071\n",
      "Epoch 35/500\n",
      "96412/96412 [==============================] - 325s 3ms/sample - loss: 0.7948 - accuracy: 0.7608 - val_loss: 1.5001 - val_accuracy: 0.6104\n",
      "Epoch 36/500\n",
      "96412/96412 [==============================] - 324s 3ms/sample - loss: 0.7838 - accuracy: 0.7625 - val_loss: 1.5046 - val_accuracy: 0.6094\n",
      "Epoch 37/500\n",
      "96412/96412 [==============================] - 322s 3ms/sample - loss: 0.7733 - accuracy: 0.7671 - val_loss: 1.5148 - val_accuracy: 0.6097\n",
      "Epoch 38/500\n",
      "96412/96412 [==============================] - 369s 4ms/sample - loss: 0.7640 - accuracy: 0.7700 - val_loss: 1.5214 - val_accuracy: 0.6106\n",
      "Epoch 39/500\n",
      "96412/96412 [==============================] - 293s 3ms/sample - loss: 0.7501 - accuracy: 0.7743 - val_loss: 1.5386 - val_accuracy: 0.6072\n",
      "Epoch 40/500\n",
      "96412/96412 [==============================] - 363s 4ms/sample - loss: 0.7429 - accuracy: 0.7757 - val_loss: 1.5340 - val_accuracy: 0.6074\n",
      "Epoch 41/500\n",
      "96412/96412 [==============================] - 387s 4ms/sample - loss: 0.7336 - accuracy: 0.7774 - val_loss: 1.5330 - val_accuracy: 0.6106\n",
      "Epoch 42/500\n",
      "96412/96412 [==============================] - 387s 4ms/sample - loss: 0.7237 - accuracy: 0.7787 - val_loss: 1.5424 - val_accuracy: 0.6139\n",
      "Epoch 43/500\n",
      "96412/96412 [==============================] - 386s 4ms/sample - loss: 0.7142 - accuracy: 0.7825 - val_loss: 1.5497 - val_accuracy: 0.6110\n",
      "Epoch 44/500\n",
      "96412/96412 [==============================] - 388s 4ms/sample - loss: 0.7057 - accuracy: 0.7851 - val_loss: 1.5687 - val_accuracy: 0.6125\n",
      "Epoch 45/500\n",
      "96412/96412 [==============================] - 387s 4ms/sample - loss: 0.6981 - accuracy: 0.7874 - val_loss: 1.5614 - val_accuracy: 0.6146\n",
      "Epoch 46/500\n",
      "96412/96412 [==============================] - 386s 4ms/sample - loss: 0.6933 - accuracy: 0.7896 - val_loss: 1.5640 - val_accuracy: 0.6103\n",
      "Epoch 47/500\n",
      "96412/96412 [==============================] - 388s 4ms/sample - loss: 0.6864 - accuracy: 0.7914 - val_loss: 1.5640 - val_accuracy: 0.6091\n",
      "Epoch 48/500\n",
      "96412/96412 [==============================] - 388s 4ms/sample - loss: 0.6790 - accuracy: 0.7936 - val_loss: 1.5740 - val_accuracy: 0.6108\n",
      "Epoch 49/500\n",
      "96412/96412 [==============================] - 388s 4ms/sample - loss: 0.6694 - accuracy: 0.7961 - val_loss: 1.5796 - val_accuracy: 0.6091\n",
      "Epoch 50/500\n",
      "96412/96412 [==============================] - 390s 4ms/sample - loss: 0.6606 - accuracy: 0.7996 - val_loss: 1.5850 - val_accuracy: 0.6107\n",
      "Epoch 51/500\n",
      "96412/96412 [==============================] - 387s 4ms/sample - loss: 0.6554 - accuracy: 0.7989 - val_loss: 1.5877 - val_accuracy: 0.6107\n",
      "Epoch 52/500\n",
      "96412/96412 [==============================] - 332s 3ms/sample - loss: 0.6505 - accuracy: 0.8037 - val_loss: 1.6039 - val_accuracy: 0.6096\n",
      "Epoch 53/500\n",
      "96412/96412 [==============================] - 309s 3ms/sample - loss: 0.6421 - accuracy: 0.8041 - val_loss: 1.6082 - val_accuracy: 0.6089\n",
      "Epoch 54/500\n",
      "96412/96412 [==============================] - 309s 3ms/sample - loss: 0.6347 - accuracy: 0.8050 - val_loss: 1.6128 - val_accuracy: 0.6065\n",
      "Epoch 55/500\n",
      "96384/96412 [============================>.] - ETA: 0s - loss: 0.6299 - accuracy: 0.8075Restoring model weights from the end of the best epoch.\n",
      "96412/96412 [==============================] - 309s 3ms/sample - loss: 0.6299 - accuracy: 0.8075 - val_loss: 1.6126 - val_accuracy: 0.6127\n",
      "Epoch 00055: early stopping\n"
     ]
    },
    {
     "data": {
      "text/plain": [
       "<tensorflow.python.keras.callbacks.History at 0x7fe255bae208>"
      ]
     },
     "execution_count": 91,
     "metadata": {},
     "output_type": "execute_result"
    }
   ],
   "source": [
    "model.fit(train_x_word_ids, train_y, \n",
    "          batch_size=32,\n",
    "          epochs=500,\n",
    "          callbacks=[es],\n",
    "          validation_data=[val_x_word_ids, valid_y])"
   ]
  },
  {
   "cell_type": "markdown",
   "metadata": {},
   "source": [
    "### Test score "
   ]
  },
  {
   "cell_type": "code",
   "execution_count": 92,
   "metadata": {},
   "outputs": [],
   "source": [
    "def classifier_score_top_1(word_ids, y_true, model):\n",
    "    \n",
    "    \"\"\" Computes top-1 classification accuracy for model.\n",
    "    \n",
    "    Args:\n",
    "        word_ids: matrix where each row is \n",
    "        y_true: true labels\n",
    "        model: trained model\n",
    "    \n",
    "    Returns:\n",
    "        None\n",
    "    \n",
    "    \"\"\"\n",
    "    \n",
    "    score = 0\n",
    "    probs = model.predict(word_ids)\n",
    "    for i in range(word_ids.shape[0]):\n",
    "        if y_true[i].argmax() == np.argsort(probs[i])[-1]:\n",
    "            score += 1\n",
    "        \n",
    "    print(\"Overall Accuracy:\", score/word_ids.shape[0])"
   ]
  },
  {
   "cell_type": "code",
   "execution_count": 93,
   "metadata": {},
   "outputs": [
    {
     "name": "stdout",
     "output_type": "stream",
     "text": [
      "Overall Accuracy: 0.6149908478888096\n"
     ]
    }
   ],
   "source": [
    "classifier_score_top_1(test_x_word_ids, test_y, model)"
   ]
  },
  {
   "cell_type": "markdown",
   "metadata": {},
   "source": [
    "### LR test score"
   ]
  },
  {
   "cell_type": "code",
   "execution_count": 94,
   "metadata": {},
   "outputs": [
    {
     "name": "stdout",
     "output_type": "stream",
     "text": [
      "Overall Accuracy: 0.5396634615384616\n"
     ]
    }
   ],
   "source": [
    "classifier_score_top_1(LR_x_word_ids, LR_y, model)"
   ]
  },
  {
   "cell_type": "markdown",
   "metadata": {},
   "source": [
    "### Top-5 accuracy"
   ]
  },
  {
   "cell_type": "code",
   "execution_count": 95,
   "metadata": {},
   "outputs": [],
   "source": [
    "def classifier_score_top_5(word_ids, y_true, model):\n",
    "    \n",
    "    \"\"\" Computes top-5 classification accuracy for model.\n",
    "    \n",
    "    Args:\n",
    "        word_ids: matrix where each row is \n",
    "        y_true: true labels\n",
    "        model: trained model\n",
    "        \n",
    "    Returns:\n",
    "        None\n",
    "    \n",
    "    \"\"\"\n",
    "    \n",
    "    score = 0\n",
    "    probs = model.predict(word_ids)\n",
    "    for i in range(word_ids.shape[0]):\n",
    "        if y_true[i].argmax() in np.argsort(probs[i])[-5:]:\n",
    "            score += 1\n",
    "        \n",
    "    print(\"Overall Accuracy:\", score/word_ids.shape[0])"
   ]
  },
  {
   "cell_type": "code",
   "execution_count": 96,
   "metadata": {},
   "outputs": [
    {
     "name": "stdout",
     "output_type": "stream",
     "text": [
      "Overall Accuracy: 0.9027704526417026\n"
     ]
    }
   ],
   "source": [
    "classifier_score_top_5(test_x_word_ids, test_y, model)"
   ]
  },
  {
   "cell_type": "code",
   "execution_count": 97,
   "metadata": {},
   "outputs": [
    {
     "name": "stdout",
     "output_type": "stream",
     "text": [
      "Overall Accuracy: 0.8058894230769231\n"
     ]
    }
   ],
   "source": [
    "classifier_score_top_5(LR_x_word_ids, LR_y, model)"
   ]
  }
 ],
 "metadata": {
  "kernelspec": {
   "display_name": "Python 3",
   "language": "python",
   "name": "python3"
  },
  "language_info": {
   "codemirror_mode": {
    "name": "ipython",
    "version": 3
   },
   "file_extension": ".py",
   "mimetype": "text/x-python",
   "name": "python",
   "nbconvert_exporter": "python",
   "pygments_lexer": "ipython3",
   "version": "3.6.8"
  }
 },
 "nbformat": 4,
 "nbformat_minor": 2
}
