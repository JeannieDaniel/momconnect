{
 "cells": [
  {
   "cell_type": "markdown",
   "metadata": {},
   "source": [
    "### Bi-directional LSTM with average pooling \n",
    "\n",
    "Author: Jeanne Elizabeth Daniel\n",
    "\n",
    "November 2019\n",
    "\n",
    "We make use of a bi-directional LSTM networks that extends the modelling capabilities of the vanilla LSTM. This approach is similar to that of InferSent (Conneau et al. 2017) where the authors combine bi-directional LSTM models with pooling layers to produce high-quality sentence embeddings. In addition to InferSent, we attach a dense classification layer after the pooling layers. "
   ]
  },
  {
   "cell_type": "code",
   "execution_count": 1,
   "metadata": {},
   "outputs": [],
   "source": [
    "import sys\n",
    "import os\n",
    "#sys.path.append(os.path.join(\\\"..\\\")) # path to source relative to current directory\""
   ]
  },
  {
   "cell_type": "code",
   "execution_count": 3,
   "metadata": {},
   "outputs": [],
   "source": [
    "import numpy as np\n",
    "import gensim"
   ]
  },
  {
   "cell_type": "code",
   "execution_count": 4,
   "metadata": {},
   "outputs": [],
   "source": [
    "import preprocess_data\n",
    "import pandas as pd"
   ]
  },
  {
   "cell_type": "code",
   "execution_count": 25,
   "metadata": {},
   "outputs": [],
   "source": [
    "import tensorflow as tf\n",
    "physical_devices = tf.config.experimental.list_physical_devices(\"GPU\")\n",
    "tf.config.experimental.set_memory_growth(physical_devices[0], True)\n",
    "from tensorflow.keras.models import Model\n",
    "from tensorflow.keras.preprocessing import sequence\n",
    "from tensorflow.keras.models import Sequential\n",
    "from tensorflow.keras.layers import GlobalAveragePooling1D, GlobalMaxPooling1D\n",
    "from tensorflow.keras.layers import Dense, Dropout, Embedding, LSTM, Bidirectional, TimeDistributed, Input, Flatten, AdditiveAttention"
   ]
  },
  {
   "cell_type": "code",
   "execution_count": 32,
   "metadata": {},
   "outputs": [],
   "source": [
    "from tensorflow.keras.callbacks import EarlyStopping, ModelCheckpoint"
   ]
  },
  {
   "cell_type": "code",
   "execution_count": 5,
   "metadata": {},
   "outputs": [],
   "source": [
    "data = pd.read_csv('dataset_7B', delimiter = ';', engine = 'python')\n",
    "data_text = data.loc[data['set'] == 'Train'][['helpdesk_question']]\n",
    "number_of_classes = data.loc[data['set'] == 'Train']['helpdesk_reply'].value_counts().shape[0]\n",
    "data = data[['helpdesk_question', 'helpdesk_reply', 'set', 'low_resource']] "
   ]
  },
  {
   "cell_type": "code",
   "execution_count": 6,
   "metadata": {},
   "outputs": [],
   "source": [
    "responses = pd.DataFrame(data.loc[data['set'] == 'Train']['helpdesk_reply'].value_counts()).reset_index()\n",
    "responses['reply'] = responses['index']\n",
    "responses['index'] = responses.index\n",
    "responses = dict(responses.set_index('reply')['index'])"
   ]
  },
  {
   "cell_type": "code",
   "execution_count": 7,
   "metadata": {},
   "outputs": [
    {
     "data": {
      "text/plain": [
       "89"
      ]
     },
     "execution_count": 7,
     "metadata": {},
     "output_type": "execute_result"
    }
   ],
   "source": [
    "len(responses)"
   ]
  },
  {
   "cell_type": "code",
   "execution_count": 8,
   "metadata": {},
   "outputs": [],
   "source": [
    "data_text['index'] = data_text.index\n",
    "documents = data_text"
   ]
  },
  {
   "cell_type": "code",
   "execution_count": 9,
   "metadata": {},
   "outputs": [],
   "source": [
    "dictionary = preprocess_data.create_dictionary(data_text, 1, 0.25, 95000) #our entire vocabulary"
   ]
  },
  {
   "cell_type": "code",
   "execution_count": 10,
   "metadata": {},
   "outputs": [],
   "source": [
    "df_train = data.loc[data['set'] == 'Train']\n",
    "df_train = df_train.reset_index()[['helpdesk_question', 'helpdesk_reply']]\n",
    "\n",
    "df_valid = data.loc[data['set'] == 'Valid']\n",
    "df_valid = df_valid.reset_index()[['helpdesk_question', 'helpdesk_reply']]\n",
    "\n",
    "df_test = data.loc[data['set'] == 'Test']\n",
    "df_test = df_test.reset_index()[['helpdesk_question', 'helpdesk_reply']]\n",
    "\n",
    "df_LR = data.loc[(data['set'] == 'Test') & (data['low_resource'] == 'True') ]\n",
    "df_LR = df_LR.reset_index()[['helpdesk_question', 'helpdesk_reply']]"
   ]
  },
  {
   "cell_type": "code",
   "execution_count": 11,
   "metadata": {},
   "outputs": [
    {
     "data": {
      "text/plain": [
       "(96412, 2)"
      ]
     },
     "execution_count": 11,
     "metadata": {},
     "output_type": "execute_result"
    }
   ],
   "source": [
    "df_train.shape"
   ]
  },
  {
   "cell_type": "code",
   "execution_count": 12,
   "metadata": {},
   "outputs": [],
   "source": [
    "unique_words = dictionary"
   ]
  },
  {
   "cell_type": "code",
   "execution_count": 13,
   "metadata": {},
   "outputs": [
    {
     "data": {
      "text/plain": [
       "57545"
      ]
     },
     "execution_count": 13,
     "metadata": {},
     "output_type": "execute_result"
    }
   ],
   "source": [
    "len(unique_words) + 1"
   ]
  },
  {
   "cell_type": "code",
   "execution_count": 14,
   "metadata": {},
   "outputs": [],
   "source": [
    "max_length = 30\n",
    "min_token_length = 0"
   ]
  },
  {
   "cell_type": "code",
   "execution_count": 15,
   "metadata": {},
   "outputs": [],
   "source": [
    "word_to_id, id_to_word = preprocess_data.create_lookup_tables(unique_words)"
   ]
  },
  {
   "cell_type": "markdown",
   "metadata": {},
   "source": [
    "#### Transforming the input sentence into a sequence of word IDs"
   ]
  },
  {
   "cell_type": "code",
   "execution_count": 16,
   "metadata": {},
   "outputs": [
    {
     "name": "stdout",
     "output_type": "stream",
     "text": [
      "(96412, 30, 1)\n"
     ]
    }
   ],
   "source": [
    "train_x_word_ids = []\n",
    "for question in df_train['helpdesk_question'].apply(preprocess_data.preprocess_question, \n",
    "                                                    args = [unique_words, min_token_length]):\n",
    "    word_ids = preprocess_data.transform_sequence_to_word_ids(question, word_to_id)\n",
    "    train_x_word_ids.append(np.array(word_ids, dtype = float))\n",
    "train_x_word_ids = np.stack(train_x_word_ids)\n",
    "print(train_x_word_ids.shape)\n",
    "    \n",
    "val_x_word_ids = []\n",
    "for question in data['helpdesk_question'].loc[data['set'] == 'Valid'].apply(preprocess_data.preprocess_question, \n",
    "                                                                          args = [unique_words, min_token_length]):\n",
    "    word_ids = preprocess_data.transform_sequence_to_word_ids(question, word_to_id)\n",
    "    val_x_word_ids.append(np.array(word_ids, dtype = float))\n",
    "val_x_word_ids = np.stack(val_x_word_ids)\n",
    "\n",
    "test_x_word_ids = []\n",
    "for question in data['helpdesk_question'].loc[data['set'] == 'Test'].apply(preprocess_data.preprocess_question, \n",
    "                                                                          args = [unique_words, min_token_length]):\n",
    "    word_ids = preprocess_data.transform_sequence_to_word_ids(question, word_to_id)\n",
    "    test_x_word_ids.append(np.array(word_ids, dtype = float))\n",
    "    \n",
    "test_x_word_ids = np.stack(test_x_word_ids)\n",
    "\n",
    "LR_x_word_ids = []\n",
    "for question in data['helpdesk_question'].loc[(data['set'] == 'Test') & \n",
    "                                              (data['low_resource'] == 'True')].apply(preprocess_data.preprocess_question, \n",
    "                                                                          args = [unique_words, min_token_length]):\n",
    "    word_ids = preprocess_data.transform_sequence_to_word_ids(question, word_to_id)\n",
    "    LR_x_word_ids.append(np.array(word_ids, dtype = float))\n",
    "LR_x_word_ids = np.stack(LR_x_word_ids)"
   ]
  },
  {
   "cell_type": "code",
   "execution_count": 17,
   "metadata": {},
   "outputs": [],
   "source": [
    "def get_dummies(reply, all_responses):\n",
    "    \n",
    "    \"\"\" Constructs a one-hot vector for replies\n",
    "    \n",
    "    Args:\n",
    "        reply: query item \n",
    "        all_responses: dict containing all the template responses with their corresponding IDs\n",
    "    \n",
    "    Return:\n",
    "        a one-hot vector where the corresponding ID of the reply is the one-hot index\n",
    "    \n",
    "    \"\"\"\n",
    "    \n",
    "    Y = np.zeros(len(all_responses), dtype = int)\n",
    "    Y[all_responses[reply]] += 1\n",
    "    return Y "
   ]
  },
  {
   "cell_type": "code",
   "execution_count": 18,
   "metadata": {},
   "outputs": [],
   "source": [
    "train_y = np.array(list(df_train['helpdesk_reply'].apply(get_dummies, args = [responses])))\n",
    "valid_y = np.array(list(df_valid['helpdesk_reply'].apply(get_dummies, args = [responses])))\n",
    "test_y  = np.array(list(df_test['helpdesk_reply'].apply(get_dummies,  args = [responses])))\n",
    "LR_y    = np.array(list(df_LR['helpdesk_reply'].apply(get_dummies,    args = [responses])))"
   ]
  },
  {
   "cell_type": "code",
   "execution_count": 19,
   "metadata": {},
   "outputs": [],
   "source": [
    "train_x_word_ids = train_x_word_ids.reshape(train_x_word_ids.shape[:-1])\n",
    "val_x_word_ids   = val_x_word_ids.reshape(val_x_word_ids.shape[:-1])\n",
    "test_x_word_ids  = test_x_word_ids.reshape(test_x_word_ids.shape[:-1])\n",
    "LR_x_word_ids    = LR_x_word_ids.reshape(LR_x_word_ids.shape[:-1])"
   ]
  },
  {
   "cell_type": "markdown",
   "metadata": {},
   "source": [
    "#### Transform vectors where the input sentence yields a sequence of length 0"
   ]
  },
  {
   "cell_type": "code",
   "execution_count": 20,
   "metadata": {},
   "outputs": [],
   "source": [
    "train_zero_vectors = np.where(train_x_word_ids.sum(axis = 1) == 0.0)[0]\n",
    "for t in range(train_zero_vectors.shape[0]):\n",
    "    train_x_word_ids[train_zero_vectors[t]][0] += 1"
   ]
  },
  {
   "cell_type": "code",
   "execution_count": 21,
   "metadata": {},
   "outputs": [],
   "source": [
    "val_zero_vectors = np.where(val_x_word_ids.sum(axis = 1) == 0.0)[0]\n",
    "for t in range(val_zero_vectors.shape[0]):\n",
    "    val_x_word_ids[val_zero_vectors[t]][0] += 1"
   ]
  },
  {
   "cell_type": "markdown",
   "metadata": {},
   "source": [
    "#### Bi-directional LSTM with average pooling\n",
    "\n",
    "The network consists of an embedding layer, followed by a dropout layer. This is followed by an bi-directional LSTM layer that outputs a variable-length sequence of embedding vectors. To construct a single sentence embedding from the sequence we use average pooling. The sentence embedding is then fed to a classification layer. We train with a dropout rate of 0.5 and batch size of 32. During training we use early stopping and Adadelta as our optimization algorithm. This network has an embedding of size 300 and 1024 hidden units in the biLSTM network. "
   ]
  },
  {
   "cell_type": "code",
   "execution_count": 29,
   "metadata": {},
   "outputs": [],
   "source": [
    "def bilstm_avg_pooling_network(max_features, input_length=30, embed_dim=100, lstm_units=512):\n",
    "    \n",
    "    \"\"\" Constructs a bi-directional LSTM network with average pooling\n",
    "    \n",
    "    Args:\n",
    "        max_features: size of vocabulary\n",
    "        input_length: length of input sequence\n",
    "        embed_dim: dimension of the embedding vector\n",
    "        lstm_units: number of hidden units in biLSTM\n",
    "        \n",
    "        \n",
    "    Returns:\n",
    "        An biLSTM model\n",
    "    \n",
    "    \"\"\"\n",
    "    \n",
    "    inputs = Input(shape=(input_length, ))\n",
    "    x = Embedding(max_features, output_dim=embed_dim, input_length=input_length, mask_zero=True)(inputs)\n",
    "    x = (Dropout(rate = 0.5))(x)\n",
    "    x = Bidirectional(LSTM(lstm_units, activation = 'tanh', return_sequences=True,\n",
    "                           dropout=0.25, recurrent_dropout=0.5))(x)\n",
    "    x = GlobalAveragePooling1D()(x)        \n",
    "    outputs = Dense(89, activation='softmax')(x)\n",
    "    return Model(inputs=inputs, outputs=outputs)\n"
   ]
  },
  {
   "cell_type": "code",
   "execution_count": 30,
   "metadata": {
    "scrolled": true
   },
   "outputs": [],
   "source": [
    "max_features = len(unique_words) + 1\n",
    "model = bilstm_avg_pooling_network(max_features, embed_dim=300, input_length=30, lstm_units = 1024)"
   ]
  },
  {
   "cell_type": "code",
   "execution_count": 31,
   "metadata": {},
   "outputs": [
    {
     "name": "stdout",
     "output_type": "stream",
     "text": [
      "Model: \"model\"\n",
      "_________________________________________________________________\n",
      "Layer (type)                 Output Shape              Param #   \n",
      "=================================================================\n",
      "input_1 (InputLayer)         [(None, 30)]              0         \n",
      "_________________________________________________________________\n",
      "embedding (Embedding)        (None, 30, 300)           17263500  \n",
      "_________________________________________________________________\n",
      "dropout (Dropout)            (None, 30, 300)           0         \n",
      "_________________________________________________________________\n",
      "bidirectional (Bidirectional (None, 30, 2048)          10854400  \n",
      "_________________________________________________________________\n",
      "global_average_pooling1d (Gl (None, 2048)              0         \n",
      "_________________________________________________________________\n",
      "dense (Dense)                (None, 89)                182361    \n",
      "=================================================================\n",
      "Total params: 28,300,261\n",
      "Trainable params: 28,300,261\n",
      "Non-trainable params: 0\n",
      "_________________________________________________________________\n"
     ]
    }
   ],
   "source": [
    "model.summary()"
   ]
  },
  {
   "cell_type": "markdown",
   "metadata": {},
   "source": [
    "### Training"
   ]
  },
  {
   "cell_type": "code",
   "execution_count": 33,
   "metadata": {},
   "outputs": [],
   "source": [
    "es = EarlyStopping(monitor='val_accuracy', verbose=1, restore_best_weights=True, patience=10)\n",
    "model.compile(loss='categorical_crossentropy', #optimizer = 'sgd',\n",
    "              optimizer=tf.keras.optimizers.Adadelta(learning_rate=0.5, rho=0.95),\n",
    "              metrics=['accuracy'])"
   ]
  },
  {
   "cell_type": "code",
   "execution_count": 35,
   "metadata": {
    "scrolled": true
   },
   "outputs": [
    {
     "name": "stdout",
     "output_type": "stream",
     "text": [
      "Train on 96412 samples, validate on 31955 samples\n",
      "Epoch 1/500\n",
      "96412/96412 [==============================] - 384s 4ms/sample - loss: 2.8027 - accuracy: 0.3815 - val_loss: 2.3516 - val_accuracy: 0.4384\n",
      "Epoch 2/500\n",
      "96412/96412 [==============================] - 383s 4ms/sample - loss: 2.2051 - accuracy: 0.4634 - val_loss: 2.0594 - val_accuracy: 0.4826\n",
      "Epoch 3/500\n",
      "96412/96412 [==============================] - 383s 4ms/sample - loss: 1.9862 - accuracy: 0.4948 - val_loss: 1.8904 - val_accuracy: 0.5069\n",
      "Epoch 4/500\n",
      "96412/96412 [==============================] - 382s 4ms/sample - loss: 1.8432 - accuracy: 0.5155 - val_loss: 1.7800 - val_accuracy: 0.5277\n",
      "Epoch 5/500\n",
      "96412/96412 [==============================] - 383s 4ms/sample - loss: 1.7372 - accuracy: 0.5337 - val_loss: 1.7121 - val_accuracy: 0.5363\n",
      "Epoch 6/500\n",
      "96412/96412 [==============================] - 384s 4ms/sample - loss: 1.6556 - accuracy: 0.5473 - val_loss: 1.6666 - val_accuracy: 0.5421\n",
      "Epoch 7/500\n",
      "96412/96412 [==============================] - 383s 4ms/sample - loss: 1.5834 - accuracy: 0.5609 - val_loss: 1.6109 - val_accuracy: 0.5546\n",
      "Epoch 8/500\n",
      "96412/96412 [==============================] - 384s 4ms/sample - loss: 1.5225 - accuracy: 0.5724 - val_loss: 1.5820 - val_accuracy: 0.5638\n",
      "Epoch 9/500\n",
      "96412/96412 [==============================] - 384s 4ms/sample - loss: 1.4724 - accuracy: 0.5819 - val_loss: 1.5535 - val_accuracy: 0.5639\n",
      "Epoch 10/500\n",
      "96412/96412 [==============================] - 384s 4ms/sample - loss: 1.4239 - accuracy: 0.5928 - val_loss: 1.5308 - val_accuracy: 0.5703\n",
      "Epoch 11/500\n",
      "96412/96412 [==============================] - 383s 4ms/sample - loss: 1.3838 - accuracy: 0.6013 - val_loss: 1.5046 - val_accuracy: 0.5742\n",
      "Epoch 12/500\n",
      "96412/96412 [==============================] - 382s 4ms/sample - loss: 1.3450 - accuracy: 0.6094 - val_loss: 1.4978 - val_accuracy: 0.5782\n",
      "Epoch 13/500\n",
      "96412/96412 [==============================] - 325s 3ms/sample - loss: 1.3106 - accuracy: 0.6189 - val_loss: 1.4926 - val_accuracy: 0.5781\n",
      "Epoch 14/500\n",
      "96412/96412 [==============================] - 308s 3ms/sample - loss: 1.2756 - accuracy: 0.6265 - val_loss: 1.4769 - val_accuracy: 0.5834\n",
      "Epoch 15/500\n",
      "96412/96412 [==============================] - 308s 3ms/sample - loss: 1.2445 - accuracy: 0.6333 - val_loss: 1.4719 - val_accuracy: 0.5832\n",
      "Epoch 16/500\n",
      "96412/96412 [==============================] - 308s 3ms/sample - loss: 1.2172 - accuracy: 0.6414 - val_loss: 1.4624 - val_accuracy: 0.5898\n",
      "Epoch 17/500\n",
      "96412/96412 [==============================] - 278s 3ms/sample - loss: 1.1867 - accuracy: 0.6500 - val_loss: 1.4572 - val_accuracy: 0.5927\n",
      "Epoch 18/500\n",
      "96412/96412 [==============================] - 267s 3ms/sample - loss: 1.1598 - accuracy: 0.6548 - val_loss: 1.4621 - val_accuracy: 0.5903\n",
      "Epoch 19/500\n",
      "96412/96412 [==============================] - 267s 3ms/sample - loss: 1.1334 - accuracy: 0.6637 - val_loss: 1.4625 - val_accuracy: 0.5926\n",
      "Epoch 20/500\n",
      "96412/96412 [==============================] - 267s 3ms/sample - loss: 1.1087 - accuracy: 0.6694 - val_loss: 1.4531 - val_accuracy: 0.5939\n",
      "Epoch 21/500\n",
      "96412/96412 [==============================] - 267s 3ms/sample - loss: 1.0831 - accuracy: 0.6759 - val_loss: 1.4681 - val_accuracy: 0.5955\n",
      "Epoch 22/500\n",
      "96412/96412 [==============================] - 267s 3ms/sample - loss: 1.0613 - accuracy: 0.6847 - val_loss: 1.4744 - val_accuracy: 0.5908\n",
      "Epoch 23/500\n",
      "96412/96412 [==============================] - 267s 3ms/sample - loss: 1.0356 - accuracy: 0.6884 - val_loss: 1.4725 - val_accuracy: 0.5938\n",
      "Epoch 24/500\n",
      "96412/96412 [==============================] - 267s 3ms/sample - loss: 1.0155 - accuracy: 0.6937 - val_loss: 1.4822 - val_accuracy: 0.5981\n",
      "Epoch 25/500\n",
      "96412/96412 [==============================] - 268s 3ms/sample - loss: 0.9965 - accuracy: 0.6980 - val_loss: 1.4619 - val_accuracy: 0.5989\n",
      "Epoch 26/500\n",
      "96412/96412 [==============================] - 267s 3ms/sample - loss: 0.9776 - accuracy: 0.7038 - val_loss: 1.4730 - val_accuracy: 0.6010\n",
      "Epoch 27/500\n",
      "96412/96412 [==============================] - 267s 3ms/sample - loss: 0.9562 - accuracy: 0.7114 - val_loss: 1.4963 - val_accuracy: 0.6007\n",
      "Epoch 28/500\n",
      "96412/96412 [==============================] - 267s 3ms/sample - loss: 0.9363 - accuracy: 0.7161 - val_loss: 1.4972 - val_accuracy: 0.6009\n",
      "Epoch 29/500\n",
      "96412/96412 [==============================] - 267s 3ms/sample - loss: 0.9192 - accuracy: 0.7200 - val_loss: 1.4828 - val_accuracy: 0.6061\n",
      "Epoch 30/500\n",
      "96412/96412 [==============================] - 267s 3ms/sample - loss: 0.9049 - accuracy: 0.7263 - val_loss: 1.4892 - val_accuracy: 0.6000\n",
      "Epoch 31/500\n",
      "96412/96412 [==============================] - 267s 3ms/sample - loss: 0.8851 - accuracy: 0.7310 - val_loss: 1.5055 - val_accuracy: 0.6030\n",
      "Epoch 32/500\n",
      "96412/96412 [==============================] - 267s 3ms/sample - loss: 0.8713 - accuracy: 0.7348 - val_loss: 1.5178 - val_accuracy: 0.6012\n",
      "Epoch 33/500\n",
      "96412/96412 [==============================] - 267s 3ms/sample - loss: 0.8523 - accuracy: 0.7387 - val_loss: 1.5214 - val_accuracy: 0.6042\n",
      "Epoch 34/500\n",
      "96412/96412 [==============================] - 268s 3ms/sample - loss: 0.8368 - accuracy: 0.7436 - val_loss: 1.5218 - val_accuracy: 0.6052\n",
      "Epoch 35/500\n",
      "96412/96412 [==============================] - 267s 3ms/sample - loss: 0.8250 - accuracy: 0.7490 - val_loss: 1.5276 - val_accuracy: 0.6055\n",
      "Epoch 36/500\n",
      "96412/96412 [==============================] - 267s 3ms/sample - loss: 0.8093 - accuracy: 0.7515 - val_loss: 1.5417 - val_accuracy: 0.6032\n",
      "Epoch 37/500\n",
      "96412/96412 [==============================] - 267s 3ms/sample - loss: 0.7944 - accuracy: 0.7556 - val_loss: 1.5529 - val_accuracy: 0.6037\n",
      "Epoch 38/500\n",
      "96412/96412 [==============================] - 268s 3ms/sample - loss: 0.7811 - accuracy: 0.7604 - val_loss: 1.5518 - val_accuracy: 0.6027\n",
      "Epoch 39/500\n",
      "96384/96412 [============================>.] - ETA: 0s - loss: 0.7671 - accuracy: 0.7644Restoring model weights from the end of the best epoch.\n",
      "96412/96412 [==============================] - 268s 3ms/sample - loss: 0.7672 - accuracy: 0.7644 - val_loss: 1.5681 - val_accuracy: 0.6047\n",
      "Epoch 00039: early stopping\n"
     ]
    },
    {
     "data": {
      "text/plain": [
       "<tensorflow.python.keras.callbacks.History at 0x7f6ee0236c88>"
      ]
     },
     "execution_count": 35,
     "metadata": {},
     "output_type": "execute_result"
    }
   ],
   "source": [
    "model.fit(train_x_word_ids, train_y, \n",
    "          batch_size=32,\n",
    "          epochs=500,\n",
    "          callbacks=[es],\n",
    "          validation_data=[val_x_word_ids, valid_y])"
   ]
  },
  {
   "cell_type": "markdown",
   "metadata": {},
   "source": [
    "### Test score "
   ]
  },
  {
   "cell_type": "code",
   "execution_count": 36,
   "metadata": {},
   "outputs": [],
   "source": [
    "def classifier_score_top_1(word_ids, y_true, model):\n",
    "    \n",
    "    \"\"\" Computes top-1 classification accuracy for model.\n",
    "    \n",
    "    Args:\n",
    "        word_ids: matrix where each row is \n",
    "        y_true: true labels\n",
    "        model: trained model\n",
    "    \n",
    "    Returns:\n",
    "        None\n",
    "    \n",
    "    \"\"\"\n",
    "    \n",
    "    score = 0\n",
    "    probs = model.predict(word_ids)\n",
    "    for i in range(word_ids.shape[0]):\n",
    "        if y_true[i].argmax() == np.argsort(probs[i])[-1]:\n",
    "            score += 1\n",
    "        \n",
    "    print(\"Overall Accuracy:\", score/word_ids.shape[0])"
   ]
  },
  {
   "cell_type": "code",
   "execution_count": 37,
   "metadata": {},
   "outputs": [
    {
     "name": "stdout",
     "output_type": "stream",
     "text": [
      "Overall Accuracy: 0.6058387366984147\n"
     ]
    }
   ],
   "source": [
    "classifier_score_top_1(test_x_word_ids, test_y, model)"
   ]
  },
  {
   "cell_type": "markdown",
   "metadata": {},
   "source": [
    "### LR test score"
   ]
  },
  {
   "cell_type": "code",
   "execution_count": 38,
   "metadata": {},
   "outputs": [
    {
     "name": "stdout",
     "output_type": "stream",
     "text": [
      "Overall Accuracy: 0.5286959134615384\n"
     ]
    }
   ],
   "source": [
    "classifier_score_top_1(LR_x_word_ids, LR_y, model)"
   ]
  },
  {
   "cell_type": "markdown",
   "metadata": {},
   "source": [
    "### Top-5 accuracy"
   ]
  },
  {
   "cell_type": "code",
   "execution_count": 40,
   "metadata": {},
   "outputs": [],
   "source": [
    "def classifier_score_top_5(word_ids, y_true, model):\n",
    "    \n",
    "    \"\"\" Computes top-5 classification accuracy for model.\n",
    "    \n",
    "    Args:\n",
    "        word_ids: matrix where each row is \n",
    "        y_true: true labels\n",
    "        model: trained model\n",
    "        \n",
    "    Returns:\n",
    "        None\n",
    "    \n",
    "    \"\"\"\n",
    "    \n",
    "    score = 0\n",
    "    probs = model.predict(word_ids)\n",
    "    for i in range(word_ids.shape[0]):\n",
    "        if y_true[i].argmax() in np.argsort(probs[i])[-5:]:\n",
    "            score += 1\n",
    "        \n",
    "    print(\"Overall Accuracy:\", score/word_ids.shape[0])"
   ]
  },
  {
   "cell_type": "code",
   "execution_count": 41,
   "metadata": {},
   "outputs": [
    {
     "name": "stdout",
     "output_type": "stream",
     "text": [
      "Overall Accuracy: 0.9016225607296869\n"
     ]
    }
   ],
   "source": [
    "classifier_score_top_5(test_x_word_ids, test_y, model)"
   ]
  },
  {
   "cell_type": "code",
   "execution_count": 42,
   "metadata": {},
   "outputs": [
    {
     "name": "stdout",
     "output_type": "stream",
     "text": [
      "Overall Accuracy: 0.8123497596153846\n"
     ]
    }
   ],
   "source": [
    "classifier_score_top_5(LR_x_word_ids, LR_y, model)"
   ]
  }
 ],
 "metadata": {
  "kernelspec": {
   "display_name": "Python 3",
   "language": "python",
   "name": "python3"
  },
  "language_info": {
   "codemirror_mode": {
    "name": "ipython",
    "version": 3
   },
   "file_extension": ".py",
   "mimetype": "text/x-python",
   "name": "python",
   "nbconvert_exporter": "python",
   "pygments_lexer": "ipython3",
   "version": "3.6.8"
  }
 },
 "nbformat": 4,
 "nbformat_minor": 2
}
