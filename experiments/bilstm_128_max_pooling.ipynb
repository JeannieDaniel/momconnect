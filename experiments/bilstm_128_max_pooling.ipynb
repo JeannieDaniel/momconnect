{
 "cells": [
  {
   "cell_type": "markdown",
   "metadata": {},
   "source": [
    "### Bi-directional LSTM with max pooling \n",
    "\n",
    "Author: Jeanne Elizabeth Daniel\n",
    "\n",
    "November 2019\n",
    "\n",
    "We make use of a bi-directional LSTM networks that extends the modelling capabilities of the vanilla LSTM. This approach is similar to that of InferSent (Conneau et al. 2017) where the authors combine bi-directional LSTM models with pooling layers to produce high-quality sentence embeddings. In addition to InferSent, we attach a dense classification layer after the pooling layers. "
   ]
  },
  {
   "cell_type": "code",
   "execution_count": 31,
   "metadata": {},
   "outputs": [],
   "source": [
    "import sys\n",
    "import os\n",
    "#sys.path.append(os.path.join(\\\"..\\\")) # path to source relative to current directory\""
   ]
  },
  {
   "cell_type": "code",
   "execution_count": 33,
   "metadata": {},
   "outputs": [],
   "source": [
    "import numpy as np\n",
    "import gensim"
   ]
  },
  {
   "cell_type": "code",
   "execution_count": 34,
   "metadata": {},
   "outputs": [],
   "source": [
    "import preprocess_data\n",
    "import pandas as pd"
   ]
  },
  {
   "cell_type": "code",
   "execution_count": 52,
   "metadata": {},
   "outputs": [],
   "source": [
    "import tensorflow as tf\n",
    "physical_devices = tf.config.experimental.list_physical_devices(\"GPU\")\n",
    "tf.config.experimental.set_memory_growth(physical_devices[0], True)\n",
    "from tensorflow.keras.models import Model\n",
    "from tensorflow.keras.preprocessing import sequence\n",
    "from tensorflow.keras.models import Sequential\n",
    "from tensorflow.keras.layers import GlobalAveragePooling1D, GlobalMaxPooling1D\n",
    "from tensorflow.keras.layers import Dense, Dropout, Embedding, LSTM, Bidirectional, TimeDistributed, Input, Flatten, AdditiveAttention"
   ]
  },
  {
   "cell_type": "code",
   "execution_count": 102,
   "metadata": {},
   "outputs": [],
   "source": [
    "from tensorflow.keras.callbacks import EarlyStopping, ModelCheckpoint"
   ]
  },
  {
   "cell_type": "code",
   "execution_count": 35,
   "metadata": {},
   "outputs": [],
   "source": [
    "data = pd.read_csv('dataset_7B', delimiter = ';', engine = 'python')\n",
    "data_text = data.loc[data['set'] == 'Train'][['helpdesk_question']]\n",
    "number_of_classes = data.loc[data['set'] == 'Train']['helpdesk_reply'].value_counts().shape[0]\n",
    "data = data[['helpdesk_question', 'helpdesk_reply', 'set', 'low_resource']] "
   ]
  },
  {
   "cell_type": "code",
   "execution_count": 36,
   "metadata": {},
   "outputs": [],
   "source": [
    "responses = pd.DataFrame(data.loc[data['set'] == 'Train']['helpdesk_reply'].value_counts()).reset_index()\n",
    "responses['reply'] = responses['index']\n",
    "responses['index'] = responses.index\n",
    "responses = dict(responses.set_index('reply')['index'])"
   ]
  },
  {
   "cell_type": "code",
   "execution_count": 37,
   "metadata": {},
   "outputs": [
    {
     "data": {
      "text/plain": [
       "89"
      ]
     },
     "execution_count": 37,
     "metadata": {},
     "output_type": "execute_result"
    }
   ],
   "source": [
    "len(responses)"
   ]
  },
  {
   "cell_type": "code",
   "execution_count": 38,
   "metadata": {},
   "outputs": [],
   "source": [
    "data_text['index'] = data_text.index\n",
    "documents = data_text"
   ]
  },
  {
   "cell_type": "code",
   "execution_count": 39,
   "metadata": {},
   "outputs": [],
   "source": [
    "dictionary = preprocess_data.create_dictionary(data_text, 1, 0.25, 95000) #our entire vocabulary"
   ]
  },
  {
   "cell_type": "code",
   "execution_count": 40,
   "metadata": {},
   "outputs": [],
   "source": [
    "df_train = data.loc[data['set'] == 'Train']\n",
    "df_train = df_train.reset_index()[['helpdesk_question', 'helpdesk_reply']]\n",
    "\n",
    "df_valid = data.loc[data['set'] == 'Valid']\n",
    "df_valid = df_valid.reset_index()[['helpdesk_question', 'helpdesk_reply']]\n",
    "\n",
    "df_test = data.loc[data['set'] == 'Test']\n",
    "df_test = df_test.reset_index()[['helpdesk_question', 'helpdesk_reply']]\n",
    "\n",
    "df_LR = data.loc[(data['set'] == 'Test') & (data['low_resource'] == 'True') ]\n",
    "df_LR = df_LR.reset_index()[['helpdesk_question', 'helpdesk_reply']]"
   ]
  },
  {
   "cell_type": "code",
   "execution_count": 41,
   "metadata": {},
   "outputs": [
    {
     "data": {
      "text/plain": [
       "(96412, 2)"
      ]
     },
     "execution_count": 41,
     "metadata": {},
     "output_type": "execute_result"
    }
   ],
   "source": [
    "df_train.shape"
   ]
  },
  {
   "cell_type": "code",
   "execution_count": 42,
   "metadata": {},
   "outputs": [],
   "source": [
    "unique_words = dictionary"
   ]
  },
  {
   "cell_type": "code",
   "execution_count": 43,
   "metadata": {},
   "outputs": [
    {
     "data": {
      "text/plain": [
       "57545"
      ]
     },
     "execution_count": 43,
     "metadata": {},
     "output_type": "execute_result"
    }
   ],
   "source": [
    "len(unique_words) + 1"
   ]
  },
  {
   "cell_type": "code",
   "execution_count": 44,
   "metadata": {},
   "outputs": [],
   "source": [
    "max_length = 30\n",
    "min_token_length = 0"
   ]
  },
  {
   "cell_type": "code",
   "execution_count": 45,
   "metadata": {},
   "outputs": [],
   "source": [
    "word_to_id, id_to_word = preprocess_data.create_lookup_tables(unique_words)"
   ]
  },
  {
   "cell_type": "markdown",
   "metadata": {},
   "source": [
    "#### Transforming the input sentence into a sequence of word IDs"
   ]
  },
  {
   "cell_type": "code",
   "execution_count": 46,
   "metadata": {},
   "outputs": [
    {
     "name": "stdout",
     "output_type": "stream",
     "text": [
      "(96412, 30, 1)\n"
     ]
    }
   ],
   "source": [
    "train_x_word_ids = []\n",
    "for question in df_train['helpdesk_question'].apply(preprocess_data.preprocess_question, \n",
    "                                                    args = [unique_words, min_token_length]):\n",
    "    word_ids = preprocess_data.transform_sequence_to_word_ids(question, word_to_id)\n",
    "    train_x_word_ids.append(np.array(word_ids, dtype = float))\n",
    "train_x_word_ids = np.stack(train_x_word_ids)\n",
    "print(train_x_word_ids.shape)\n",
    "    \n",
    "val_x_word_ids = []\n",
    "for question in data['helpdesk_question'].loc[data['set'] == 'Valid'].apply(preprocess_data.preprocess_question, \n",
    "                                                                          args = [unique_words, min_token_length]):\n",
    "    word_ids = preprocess_data.transform_sequence_to_word_ids(question, word_to_id)\n",
    "    val_x_word_ids.append(np.array(word_ids, dtype = float))\n",
    "val_x_word_ids = np.stack(val_x_word_ids)\n",
    "\n",
    "test_x_word_ids = []\n",
    "for question in data['helpdesk_question'].loc[data['set'] == 'Test'].apply(preprocess_data.preprocess_question, \n",
    "                                                                          args = [unique_words, min_token_length]):\n",
    "    word_ids = preprocess_data.transform_sequence_to_word_ids(question, word_to_id)\n",
    "    test_x_word_ids.append(np.array(word_ids, dtype = float))\n",
    "    \n",
    "test_x_word_ids = np.stack(test_x_word_ids)\n",
    "\n",
    "LR_x_word_ids = []\n",
    "for question in data['helpdesk_question'].loc[(data['set'] == 'Test') & \n",
    "                                              (data['low_resource'] == 'True')].apply(preprocess_data.preprocess_question, \n",
    "                                                                          args = [unique_words, min_token_length]):\n",
    "    word_ids = preprocess_data.transform_sequence_to_word_ids(question, word_to_id)\n",
    "    LR_x_word_ids.append(np.array(word_ids, dtype = float))\n",
    "LR_x_word_ids = np.stack(LR_x_word_ids)"
   ]
  },
  {
   "cell_type": "code",
   "execution_count": 47,
   "metadata": {},
   "outputs": [],
   "source": [
    "def get_dummies(reply, all_responses):\n",
    "    \n",
    "    \"\"\" Constructs a one-hot vector for replies\n",
    "    \n",
    "    Args:\n",
    "        reply: query item \n",
    "        all_responses: dict containing all the template responses with their corresponding IDs\n",
    "    \n",
    "    Return:\n",
    "        a one-hot vector where the corresponding ID of the reply is the one-hot index\n",
    "    \n",
    "    \"\"\"\n",
    "    \n",
    "    Y = np.zeros(len(all_responses), dtype = int)\n",
    "    Y[all_responses[reply]] += 1\n",
    "    return Y "
   ]
  },
  {
   "cell_type": "code",
   "execution_count": 48,
   "metadata": {},
   "outputs": [],
   "source": [
    "train_y = np.array(list(df_train['helpdesk_reply'].apply(get_dummies, args = [responses])))\n",
    "valid_y = np.array(list(df_valid['helpdesk_reply'].apply(get_dummies, args = [responses])))\n",
    "test_y  = np.array(list(df_test['helpdesk_reply'].apply(get_dummies,  args = [responses])))\n",
    "LR_y    = np.array(list(df_LR['helpdesk_reply'].apply(get_dummies,    args = [responses])))"
   ]
  },
  {
   "cell_type": "code",
   "execution_count": 49,
   "metadata": {},
   "outputs": [],
   "source": [
    "train_x_word_ids = train_x_word_ids.reshape(train_x_word_ids.shape[:-1])\n",
    "val_x_word_ids   = val_x_word_ids.reshape(val_x_word_ids.shape[:-1])\n",
    "test_x_word_ids  = test_x_word_ids.reshape(test_x_word_ids.shape[:-1])\n",
    "LR_x_word_ids    = LR_x_word_ids.reshape(LR_x_word_ids.shape[:-1])"
   ]
  },
  {
   "cell_type": "markdown",
   "metadata": {},
   "source": [
    "#### Transform vectors where the input sentence yields a sequence of length 0"
   ]
  },
  {
   "cell_type": "code",
   "execution_count": 50,
   "metadata": {},
   "outputs": [],
   "source": [
    "train_zero_vectors = np.where(train_x_word_ids.sum(axis = 1) == 0.0)[0]\n",
    "for t in range(train_zero_vectors.shape[0]):\n",
    "    train_x_word_ids[train_zero_vectors[t]][0] += 1"
   ]
  },
  {
   "cell_type": "code",
   "execution_count": 51,
   "metadata": {},
   "outputs": [],
   "source": [
    "val_zero_vectors = np.where(val_x_word_ids.sum(axis = 1) == 0.0)[0]\n",
    "for t in range(val_zero_vectors.shape[0]):\n",
    "    val_x_word_ids[val_zero_vectors[t]][0] += 1"
   ]
  },
  {
   "cell_type": "markdown",
   "metadata": {},
   "source": [
    "#### Bi-directional LSTM with max pooling\n",
    "\n",
    "The network consists of an embedding layer, followed by a dropout layer. This is followed by an bi-directional LSTM layer that outputs a variable-length sequence of embedding vectors. To construct a single sentence embedding from the sequence we use max pooling. The sentence embedding is then fed to a classification layer. We train with a dropout rate of 0.5 and batch size of 32. During training we use early stopping and Adadelta as our optimization algorithm. This network has an embedding of size 300 and 128 hidden units in the biLSTM network. "
   ]
  },
  {
   "cell_type": "code",
   "execution_count": 54,
   "metadata": {},
   "outputs": [],
   "source": [
    "def bilstm_max_pooling_network(max_features, input_length=30, embed_dim=100, lstm_units=512):\n",
    "    \n",
    "    \"\"\" Constructs a bi-directional LSTM network with max pooling\n",
    "    \n",
    "    Args:\n",
    "        max_features: size of vocabulary\n",
    "        input_length: length of input sequence\n",
    "        embed_dim: dimension of the embedding vector\n",
    "        lstm_units: number of hidden units in biLSTM\n",
    "        \n",
    "        \n",
    "    Returns:\n",
    "        An biLSTM model\n",
    "    \n",
    "    \"\"\"\n",
    "    \n",
    "    inputs = Input(shape=(input_length, ))\n",
    "    x = Embedding(max_features, output_dim=embed_dim, input_length=input_length, mask_zero=True)(inputs)\n",
    "    x = (Dropout(rate = 0.5))(x)\n",
    "    x = Bidirectional(LSTM(lstm_units, activation = 'tanh', return_sequences=True,\n",
    "                           dropout=0.25, recurrent_dropout=0.5))(x)\n",
    "    x = GlobalMaxPooling1D()(x)        \n",
    "    outputs = Dense(89, activation='softmax')(x)\n",
    "    return Model(inputs=inputs, outputs=outputs)"
   ]
  },
  {
   "cell_type": "code",
   "execution_count": 100,
   "metadata": {
    "scrolled": true
   },
   "outputs": [],
   "source": [
    "max_features = len(unique_words) + 1\n",
    "model = bilstm_max_pooling_network(max_features, embed_dim=300, input_length=30, lstm_units = 128)"
   ]
  },
  {
   "cell_type": "code",
   "execution_count": 101,
   "metadata": {},
   "outputs": [
    {
     "name": "stdout",
     "output_type": "stream",
     "text": [
      "Model: \"model_3\"\n",
      "_________________________________________________________________\n",
      "Layer (type)                 Output Shape              Param #   \n",
      "=================================================================\n",
      "input_4 (InputLayer)         [(None, 30)]              0         \n",
      "_________________________________________________________________\n",
      "embedding_3 (Embedding)      (None, 30, 300)           17263500  \n",
      "_________________________________________________________________\n",
      "dropout_3 (Dropout)          (None, 30, 300)           0         \n",
      "_________________________________________________________________\n",
      "bidirectional_3 (Bidirection (None, 30, 256)           439296    \n",
      "_________________________________________________________________\n",
      "global_max_pooling1d_3 (Glob (None, 256)               0         \n",
      "_________________________________________________________________\n",
      "dense_3 (Dense)              (None, 89)                22873     \n",
      "=================================================================\n",
      "Total params: 17,725,669\n",
      "Trainable params: 17,725,669\n",
      "Non-trainable params: 0\n",
      "_________________________________________________________________\n"
     ]
    }
   ],
   "source": [
    "model.summary()"
   ]
  },
  {
   "cell_type": "markdown",
   "metadata": {},
   "source": [
    "### Training"
   ]
  },
  {
   "cell_type": "code",
   "execution_count": 103,
   "metadata": {},
   "outputs": [],
   "source": [
    "es = EarlyStopping(monitor='val_accuracy', verbose=1, restore_best_weights=True, patience=10)\n",
    "model.compile(loss='categorical_crossentropy',\n",
    "              optimizer=tf.keras.optimizers.Adadelta(learning_rate=0.5, rho=0.95),\n",
    "              metrics=['accuracy'])"
   ]
  },
  {
   "cell_type": "code",
   "execution_count": 107,
   "metadata": {
    "scrolled": true
   },
   "outputs": [
    {
     "name": "stdout",
     "output_type": "stream",
     "text": [
      "Train on 96412 samples, validate on 31955 samples\n",
      "Epoch 1/500\n",
      "96412/96412 [==============================] - 383s 4ms/sample - loss: 2.9518 - accuracy: 0.3684 - val_loss: 2.5128 - val_accuracy: 0.4291\n",
      "Epoch 2/500\n",
      "96412/96412 [==============================] - 388s 4ms/sample - loss: 2.3258 - accuracy: 0.4514 - val_loss: 2.1311 - val_accuracy: 0.4762\n",
      "Epoch 3/500\n",
      "96412/96412 [==============================] - 388s 4ms/sample - loss: 2.0425 - accuracy: 0.4891 - val_loss: 1.9304 - val_accuracy: 0.5011\n",
      "Epoch 4/500\n",
      "96412/96412 [==============================] - 390s 4ms/sample - loss: 1.8568 - accuracy: 0.5159 - val_loss: 1.7989 - val_accuracy: 0.5262\n",
      "Epoch 5/500\n",
      "96412/96412 [==============================] - 390s 4ms/sample - loss: 1.7227 - accuracy: 0.5400 - val_loss: 1.7133 - val_accuracy: 0.5390\n",
      "Epoch 6/500\n",
      "96412/96412 [==============================] - 390s 4ms/sample - loss: 1.6214 - accuracy: 0.5574 - val_loss: 1.6497 - val_accuracy: 0.5532\n",
      "Epoch 7/500\n",
      "96412/96412 [==============================] - 391s 4ms/sample - loss: 1.5391 - accuracy: 0.5716 - val_loss: 1.5964 - val_accuracy: 0.5607\n",
      "Epoch 8/500\n",
      "96412/96412 [==============================] - 390s 4ms/sample - loss: 1.4662 - accuracy: 0.5865 - val_loss: 1.5689 - val_accuracy: 0.5672\n",
      "Epoch 9/500\n",
      "96412/96412 [==============================] - 390s 4ms/sample - loss: 1.4079 - accuracy: 0.5992 - val_loss: 1.5488 - val_accuracy: 0.5693\n",
      "Epoch 10/500\n",
      "96412/96412 [==============================] - 389s 4ms/sample - loss: 1.3542 - accuracy: 0.6113 - val_loss: 1.5297 - val_accuracy: 0.5703\n",
      "Epoch 11/500\n",
      "96412/96412 [==============================] - 391s 4ms/sample - loss: 1.3043 - accuracy: 0.6208 - val_loss: 1.5167 - val_accuracy: 0.5753\n",
      "Epoch 12/500\n",
      "96412/96412 [==============================] - 390s 4ms/sample - loss: 1.2640 - accuracy: 0.6316 - val_loss: 1.5019 - val_accuracy: 0.5789\n",
      "Epoch 13/500\n",
      "96412/96412 [==============================] - 389s 4ms/sample - loss: 1.2230 - accuracy: 0.6413 - val_loss: 1.4742 - val_accuracy: 0.5889\n",
      "Epoch 14/500\n",
      "96412/96412 [==============================] - 392s 4ms/sample - loss: 1.1866 - accuracy: 0.6508 - val_loss: 1.4734 - val_accuracy: 0.5868\n",
      "Epoch 15/500\n",
      "96412/96412 [==============================] - 389s 4ms/sample - loss: 1.1543 - accuracy: 0.6582 - val_loss: 1.4770 - val_accuracy: 0.5867\n",
      "Epoch 16/500\n",
      "96412/96412 [==============================] - 391s 4ms/sample - loss: 1.1214 - accuracy: 0.6668 - val_loss: 1.4623 - val_accuracy: 0.5943\n",
      "Epoch 17/500\n",
      "96412/96412 [==============================] - 391s 4ms/sample - loss: 1.0938 - accuracy: 0.6751 - val_loss: 1.4657 - val_accuracy: 0.5914\n",
      "Epoch 18/500\n",
      "96412/96412 [==============================] - 390s 4ms/sample - loss: 1.0636 - accuracy: 0.6833 - val_loss: 1.4832 - val_accuracy: 0.5869\n",
      "Epoch 19/500\n",
      "96412/96412 [==============================] - 392s 4ms/sample - loss: 1.0400 - accuracy: 0.6881 - val_loss: 1.4933 - val_accuracy: 0.5859\n",
      "Epoch 20/500\n",
      "96412/96412 [==============================] - 391s 4ms/sample - loss: 1.0135 - accuracy: 0.6958 - val_loss: 1.4718 - val_accuracy: 0.5959\n",
      "Epoch 21/500\n",
      "96412/96412 [==============================] - 389s 4ms/sample - loss: 0.9870 - accuracy: 0.7030 - val_loss: 1.4668 - val_accuracy: 0.5980\n",
      "Epoch 22/500\n",
      "96412/96412 [==============================] - 390s 4ms/sample - loss: 0.9697 - accuracy: 0.7075 - val_loss: 1.4820 - val_accuracy: 0.5953\n",
      "Epoch 23/500\n",
      "96412/96412 [==============================] - 388s 4ms/sample - loss: 0.9480 - accuracy: 0.7135 - val_loss: 1.4829 - val_accuracy: 0.5964\n",
      "Epoch 24/500\n",
      "96412/96412 [==============================] - 388s 4ms/sample - loss: 0.9285 - accuracy: 0.7194 - val_loss: 1.4909 - val_accuracy: 0.5984\n",
      "Epoch 25/500\n",
      "96412/96412 [==============================] - 390s 4ms/sample - loss: 0.9094 - accuracy: 0.7231 - val_loss: 1.4957 - val_accuracy: 0.5972\n",
      "Epoch 26/500\n",
      "96412/96412 [==============================] - 390s 4ms/sample - loss: 0.8918 - accuracy: 0.7297 - val_loss: 1.5040 - val_accuracy: 0.5955\n",
      "Epoch 27/500\n",
      "96412/96412 [==============================] - 391s 4ms/sample - loss: 0.8738 - accuracy: 0.7358 - val_loss: 1.4996 - val_accuracy: 0.6026\n",
      "Epoch 28/500\n",
      "96412/96412 [==============================] - 390s 4ms/sample - loss: 0.8590 - accuracy: 0.7400 - val_loss: 1.5100 - val_accuracy: 0.6019\n",
      "Epoch 29/500\n",
      "96412/96412 [==============================] - 388s 4ms/sample - loss: 0.8449 - accuracy: 0.7430 - val_loss: 1.5108 - val_accuracy: 0.6037\n",
      "Epoch 30/500\n",
      "96412/96412 [==============================] - 390s 4ms/sample - loss: 0.8288 - accuracy: 0.7485 - val_loss: 1.5146 - val_accuracy: 0.6023\n",
      "Epoch 31/500\n",
      "96412/96412 [==============================] - 390s 4ms/sample - loss: 0.8156 - accuracy: 0.7498 - val_loss: 1.5241 - val_accuracy: 0.6004\n",
      "Epoch 32/500\n",
      "96412/96412 [==============================] - 392s 4ms/sample - loss: 0.8051 - accuracy: 0.7548 - val_loss: 1.5327 - val_accuracy: 0.6004\n",
      "Epoch 33/500\n",
      "96412/96412 [==============================] - 392s 4ms/sample - loss: 0.7905 - accuracy: 0.7582 - val_loss: 1.5303 - val_accuracy: 0.6041\n",
      "Epoch 34/500\n",
      "96412/96412 [==============================] - 391s 4ms/sample - loss: 0.7772 - accuracy: 0.7631 - val_loss: 1.5525 - val_accuracy: 0.5997\n",
      "Epoch 35/500\n",
      "96412/96412 [==============================] - 392s 4ms/sample - loss: 0.7652 - accuracy: 0.7671 - val_loss: 1.5548 - val_accuracy: 0.5999\n",
      "Epoch 36/500\n",
      "96412/96412 [==============================] - 391s 4ms/sample - loss: 0.7565 - accuracy: 0.7689 - val_loss: 1.5496 - val_accuracy: 0.6028\n",
      "Epoch 37/500\n",
      "96412/96412 [==============================] - 395s 4ms/sample - loss: 0.7468 - accuracy: 0.7731 - val_loss: 1.5598 - val_accuracy: 0.6017\n",
      "Epoch 38/500\n",
      "96412/96412 [==============================] - 382s 4ms/sample - loss: 0.7356 - accuracy: 0.7759 - val_loss: 1.5698 - val_accuracy: 0.6023\n",
      "Epoch 39/500\n",
      "96412/96412 [==============================] - 256s 3ms/sample - loss: 0.7283 - accuracy: 0.7778 - val_loss: 1.5717 - val_accuracy: 0.6024\n",
      "Epoch 40/500\n",
      "96412/96412 [==============================] - 257s 3ms/sample - loss: 0.7165 - accuracy: 0.7817 - val_loss: 1.5738 - val_accuracy: 0.6067\n",
      "Epoch 41/500\n",
      "96412/96412 [==============================] - 256s 3ms/sample - loss: 0.7101 - accuracy: 0.7842 - val_loss: 1.5766 - val_accuracy: 0.6043\n",
      "Epoch 42/500\n",
      "96412/96412 [==============================] - 257s 3ms/sample - loss: 0.7003 - accuracy: 0.7856 - val_loss: 1.5916 - val_accuracy: 0.6030\n",
      "Epoch 43/500\n",
      "96412/96412 [==============================] - 256s 3ms/sample - loss: 0.6906 - accuracy: 0.7879 - val_loss: 1.5957 - val_accuracy: 0.6021\n",
      "Epoch 44/500\n",
      "96412/96412 [==============================] - 256s 3ms/sample - loss: 0.6855 - accuracy: 0.7905 - val_loss: 1.6081 - val_accuracy: 0.6022\n",
      "Epoch 45/500\n",
      "96412/96412 [==============================] - 256s 3ms/sample - loss: 0.6773 - accuracy: 0.7926 - val_loss: 1.6119 - val_accuracy: 0.6023\n",
      "Epoch 46/500\n",
      "96412/96412 [==============================] - 255s 3ms/sample - loss: 0.6697 - accuracy: 0.7939 - val_loss: 1.6162 - val_accuracy: 0.6019\n",
      "Epoch 47/500\n",
      "96412/96412 [==============================] - 254s 3ms/sample - loss: 0.6627 - accuracy: 0.7984 - val_loss: 1.6246 - val_accuracy: 0.6017\n",
      "Epoch 48/500\n",
      "96412/96412 [==============================] - 254s 3ms/sample - loss: 0.6553 - accuracy: 0.7985 - val_loss: 1.6309 - val_accuracy: 0.6028\n",
      "Epoch 49/500\n",
      "96412/96412 [==============================] - 254s 3ms/sample - loss: 0.6499 - accuracy: 0.8014 - val_loss: 1.6450 - val_accuracy: 0.6019\n",
      "Epoch 50/500\n",
      "96384/96412 [============================>.] - ETA: 0s - loss: 0.6459 - accuracy: 0.8034Restoring model weights from the end of the best epoch.\n",
      "96412/96412 [==============================] - 254s 3ms/sample - loss: 0.6459 - accuracy: 0.8033 - val_loss: 1.6441 - val_accuracy: 0.6019\n",
      "Epoch 00050: early stopping\n"
     ]
    },
    {
     "data": {
      "text/plain": [
       "<tensorflow.python.keras.callbacks.History at 0x7fad7f8a54e0>"
      ]
     },
     "execution_count": 107,
     "metadata": {},
     "output_type": "execute_result"
    }
   ],
   "source": [
    "model.fit(train_x_word_ids, train_y, \n",
    "          batch_size=32,\n",
    "          epochs=500,\n",
    "          callbacks=[es],\n",
    "          validation_data=[val_x_word_ids, valid_y])"
   ]
  },
  {
   "cell_type": "markdown",
   "metadata": {},
   "source": [
    "### Test score "
   ]
  },
  {
   "cell_type": "code",
   "execution_count": 108,
   "metadata": {},
   "outputs": [],
   "source": [
    "def classifier_score_top_1(word_ids, y_true, model):\n",
    "    \n",
    "    \"\"\" Computes top-1 classification accuracy for model.\n",
    "    \n",
    "    Args:\n",
    "        word_ids: matrix where each row is \n",
    "        y_true: true labels\n",
    "        model: trained model\n",
    "    \n",
    "    Returns:\n",
    "        None\n",
    "    \n",
    "    \"\"\"\n",
    "    \n",
    "    score = 0\n",
    "    probs = model.predict(word_ids)\n",
    "    for i in range(word_ids.shape[0]):\n",
    "        if y_true[i].argmax() == np.argsort(probs[i])[-1]:\n",
    "            score += 1\n",
    "        \n",
    "    print(\"Overall Accuracy:\", score/word_ids.shape[0])"
   ]
  },
  {
   "cell_type": "code",
   "execution_count": 109,
   "metadata": {},
   "outputs": [
    {
     "name": "stdout",
     "output_type": "stream",
     "text": [
      "Overall Accuracy: 0.6051872304780814\n"
     ]
    }
   ],
   "source": [
    "classifier_score_top_1(test_x_word_ids, test_y, model)"
   ]
  },
  {
   "cell_type": "markdown",
   "metadata": {},
   "source": [
    "### LR test score"
   ]
  },
  {
   "cell_type": "code",
   "execution_count": 110,
   "metadata": {},
   "outputs": [
    {
     "name": "stdout",
     "output_type": "stream",
     "text": [
      "Overall Accuracy: 0.5289963942307693\n"
     ]
    }
   ],
   "source": [
    "classifier_score_top_1(LR_x_word_ids, LR_y, model)"
   ]
  },
  {
   "cell_type": "code",
   "execution_count": 111,
   "metadata": {
    "scrolled": true
   },
   "outputs": [
    {
     "data": {
      "text/plain": [
       "0"
      ]
     },
     "execution_count": 111,
     "metadata": {},
     "output_type": "execute_result"
    }
   ],
   "source": [
    "test_y[0].argmax()"
   ]
  },
  {
   "cell_type": "markdown",
   "metadata": {},
   "source": [
    "### Top-5 accuracy"
   ]
  },
  {
   "cell_type": "code",
   "execution_count": 112,
   "metadata": {},
   "outputs": [],
   "source": [
    "def classifier_score_top_5(word_ids, y_true, model):\n",
    "    \n",
    "    \"\"\" Computes top-5 classification accuracy for model.\n",
    "    \n",
    "    Args:\n",
    "        word_ids: matrix where each row is \n",
    "        y_true: true labels\n",
    "        model: trained model\n",
    "        \n",
    "    Returns:\n",
    "        None\n",
    "    \n",
    "    \"\"\"\n",
    "    \n",
    "    score = 0\n",
    "    probs = model.predict(word_ids)\n",
    "    for i in range(word_ids.shape[0]):\n",
    "        if y_true[i].argmax() in np.argsort(probs[i])[-5:]:\n",
    "            score += 1\n",
    "        \n",
    "    print(\"Overall Accuracy:\", score/word_ids.shape[0])"
   ]
  },
  {
   "cell_type": "code",
   "execution_count": 113,
   "metadata": {},
   "outputs": [
    {
     "name": "stdout",
     "output_type": "stream",
     "text": [
      "Overall Accuracy: 0.8970309930816244\n"
     ]
    }
   ],
   "source": [
    "classifier_score_top_5(test_x_word_ids, test_y, model)"
   ]
  },
  {
   "cell_type": "code",
   "execution_count": 114,
   "metadata": {},
   "outputs": [
    {
     "name": "stdout",
     "output_type": "stream",
     "text": [
      "Overall Accuracy: 0.8103966346153846\n"
     ]
    }
   ],
   "source": [
    "classifier_score_top_5(LR_x_word_ids, LR_y, model)"
   ]
  },
  {
   "cell_type": "code",
   "execution_count": null,
   "metadata": {},
   "outputs": [],
   "source": []
  }
 ],
 "metadata": {
  "kernelspec": {
   "display_name": "Python 3",
   "language": "python",
   "name": "python3"
  },
  "language_info": {
   "codemirror_mode": {
    "name": "ipython",
    "version": 3
   },
   "file_extension": ".py",
   "mimetype": "text/x-python",
   "name": "python",
   "nbconvert_exporter": "python",
   "pygments_lexer": "ipython3",
   "version": "3.6.8"
  }
 },
 "nbformat": 4,
 "nbformat_minor": 2
}
