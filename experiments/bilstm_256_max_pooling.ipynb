{
 "cells": [
  {
   "cell_type": "markdown",
   "metadata": {},
   "source": [
    "### Bi-directional LSTM with max pooling \n",
    "\n",
    "Author: Jeanne Elizabeth Daniel\n",
    "\n",
    "November 2019\n",
    "\n",
    "We make use of a bi-directional LSTM networks that extends the modelling capabilities of the vanilla LSTM. This approach is similar to that of InferSent (Conneau et al. 2017) where the authors combine bi-directional LSTM models with pooling layers to produce high-quality sentence embeddings. In addition to InferSent, we attach a dense classification layer after the pooling layers. "
   ]
  },
  {
   "cell_type": "code",
   "execution_count": 1,
   "metadata": {},
   "outputs": [],
   "source": [
    "import sys\n",
    "import os\n",
    "#sys.path.append(os.path.join(\\\"..\\\")) # path to source relative to current directory\""
   ]
  },
  {
   "cell_type": "code",
   "execution_count": 3,
   "metadata": {},
   "outputs": [],
   "source": [
    "import numpy as np\n",
    "import gensim"
   ]
  },
  {
   "cell_type": "code",
   "execution_count": 4,
   "metadata": {},
   "outputs": [],
   "source": [
    "import preprocess_data\n",
    "import pandas as pd"
   ]
  },
  {
   "cell_type": "code",
   "execution_count": 22,
   "metadata": {},
   "outputs": [],
   "source": [
    "import tensorflow as tf\n",
    "physical_devices = tf.config.experimental.list_physical_devices(\"GPU\")\n",
    "tf.config.experimental.set_memory_growth(physical_devices[0], True)\n",
    "from tensorflow.keras.models import Model\n",
    "from tensorflow.keras.preprocessing import sequence\n",
    "from tensorflow.keras.models import Sequential\n",
    "from tensorflow.keras.layers import GlobalAveragePooling1D, GlobalMaxPooling1D\n",
    "from tensorflow.keras.layers import Dense, Dropout, Embedding, LSTM, Bidirectional, TimeDistributed, Input, Flatten, AdditiveAttention"
   ]
  },
  {
   "cell_type": "code",
   "execution_count": 53,
   "metadata": {},
   "outputs": [],
   "source": [
    "from tensorflow.keras.callbacks import EarlyStopping, ModelCheckpoint"
   ]
  },
  {
   "cell_type": "code",
   "execution_count": 5,
   "metadata": {},
   "outputs": [],
   "source": [
    "data = pd.read_csv('dataset_7B', delimiter = ';', engine = 'python')\n",
    "data_text = data.loc[data['set'] == 'Train'][['helpdesk_question']]\n",
    "number_of_classes = data.loc[data['set'] == 'Train']['helpdesk_reply'].value_counts().shape[0]\n",
    "data = data[['helpdesk_question', 'helpdesk_reply', 'set', 'low_resource']] "
   ]
  },
  {
   "cell_type": "code",
   "execution_count": 6,
   "metadata": {},
   "outputs": [],
   "source": [
    "responses = pd.DataFrame(data.loc[data['set'] == 'Train']['helpdesk_reply'].value_counts()).reset_index()\n",
    "responses['reply'] = responses['index']\n",
    "responses['index'] = responses.index\n",
    "responses = dict(responses.set_index('reply')['index'])"
   ]
  },
  {
   "cell_type": "code",
   "execution_count": 7,
   "metadata": {},
   "outputs": [
    {
     "data": {
      "text/plain": [
       "89"
      ]
     },
     "execution_count": 7,
     "metadata": {},
     "output_type": "execute_result"
    }
   ],
   "source": [
    "len(responses)"
   ]
  },
  {
   "cell_type": "code",
   "execution_count": 8,
   "metadata": {},
   "outputs": [],
   "source": [
    "data_text['index'] = data_text.index\n",
    "documents = data_text"
   ]
  },
  {
   "cell_type": "code",
   "execution_count": 9,
   "metadata": {},
   "outputs": [],
   "source": [
    "dictionary = preprocess_data.create_dictionary(data_text, 1, 0.25, 95000) #our entire vocabulary"
   ]
  },
  {
   "cell_type": "code",
   "execution_count": 10,
   "metadata": {},
   "outputs": [],
   "source": [
    "df_train = data.loc[data['set'] == 'Train']\n",
    "df_train = df_train.reset_index()[['helpdesk_question', 'helpdesk_reply']]\n",
    "\n",
    "df_valid = data.loc[data['set'] == 'Valid']\n",
    "df_valid = df_valid.reset_index()[['helpdesk_question', 'helpdesk_reply']]\n",
    "\n",
    "df_test = data.loc[data['set'] == 'Test']\n",
    "df_test = df_test.reset_index()[['helpdesk_question', 'helpdesk_reply']]\n",
    "\n",
    "df_LR = data.loc[(data['set'] == 'Test') & (data['low_resource'] == 'True') ]\n",
    "df_LR = df_LR.reset_index()[['helpdesk_question', 'helpdesk_reply']]"
   ]
  },
  {
   "cell_type": "code",
   "execution_count": 11,
   "metadata": {},
   "outputs": [
    {
     "data": {
      "text/plain": [
       "(96412, 2)"
      ]
     },
     "execution_count": 11,
     "metadata": {},
     "output_type": "execute_result"
    }
   ],
   "source": [
    "df_train.shape"
   ]
  },
  {
   "cell_type": "code",
   "execution_count": 12,
   "metadata": {},
   "outputs": [],
   "source": [
    "unique_words = dictionary"
   ]
  },
  {
   "cell_type": "code",
   "execution_count": 13,
   "metadata": {},
   "outputs": [
    {
     "data": {
      "text/plain": [
       "57545"
      ]
     },
     "execution_count": 13,
     "metadata": {},
     "output_type": "execute_result"
    }
   ],
   "source": [
    "len(unique_words) + 1"
   ]
  },
  {
   "cell_type": "code",
   "execution_count": 14,
   "metadata": {},
   "outputs": [],
   "source": [
    "max_length = 30\n",
    "min_token_length = 0"
   ]
  },
  {
   "cell_type": "code",
   "execution_count": 15,
   "metadata": {},
   "outputs": [],
   "source": [
    "word_to_id, id_to_word = preprocess_data.create_lookup_tables(unique_words)"
   ]
  },
  {
   "cell_type": "markdown",
   "metadata": {},
   "source": [
    "#### Transforming the input sentence into a sequence of word IDs"
   ]
  },
  {
   "cell_type": "code",
   "execution_count": 16,
   "metadata": {},
   "outputs": [
    {
     "name": "stdout",
     "output_type": "stream",
     "text": [
      "(96412, 30, 1)\n"
     ]
    }
   ],
   "source": [
    "train_x_word_ids = []\n",
    "for question in df_train['helpdesk_question'].apply(preprocess_data.preprocess_question, \n",
    "                                                    args = [unique_words, min_token_length]):\n",
    "    word_ids = preprocess_data.transform_sequence_to_word_ids(question, word_to_id)\n",
    "    train_x_word_ids.append(np.array(word_ids, dtype = float))\n",
    "train_x_word_ids = np.stack(train_x_word_ids)\n",
    "print(train_x_word_ids.shape)\n",
    "    \n",
    "val_x_word_ids = []\n",
    "for question in data['helpdesk_question'].loc[data['set'] == 'Valid'].apply(preprocess_data.preprocess_question, \n",
    "                                                                          args = [unique_words, min_token_length]):\n",
    "    word_ids = preprocess_data.transform_sequence_to_word_ids(question, word_to_id)\n",
    "    val_x_word_ids.append(np.array(word_ids, dtype = float))\n",
    "val_x_word_ids = np.stack(val_x_word_ids)\n",
    "\n",
    "test_x_word_ids = []\n",
    "for question in data['helpdesk_question'].loc[data['set'] == 'Test'].apply(preprocess_data.preprocess_question, \n",
    "                                                                          args = [unique_words, min_token_length]):\n",
    "    word_ids = preprocess_data.transform_sequence_to_word_ids(question, word_to_id)\n",
    "    test_x_word_ids.append(np.array(word_ids, dtype = float))\n",
    "    \n",
    "test_x_word_ids = np.stack(test_x_word_ids)\n",
    "\n",
    "LR_x_word_ids = []\n",
    "for question in data['helpdesk_question'].loc[(data['set'] == 'Test') & \n",
    "                                              (data['low_resource'] == 'True')].apply(preprocess_data.preprocess_question, \n",
    "                                                                          args = [unique_words, min_token_length]):\n",
    "    word_ids = preprocess_data.transform_sequence_to_word_ids(question, word_to_id)\n",
    "    LR_x_word_ids.append(np.array(word_ids, dtype = float))\n",
    "LR_x_word_ids = np.stack(LR_x_word_ids)"
   ]
  },
  {
   "cell_type": "code",
   "execution_count": 17,
   "metadata": {},
   "outputs": [],
   "source": [
    "def get_dummies(reply, all_responses):\n",
    "    \n",
    "    \"\"\" Constructs a one-hot vector for replies\n",
    "    \n",
    "    Args:\n",
    "        reply: query item \n",
    "        all_responses: dict containing all the template responses with their corresponding IDs\n",
    "    \n",
    "    Return:\n",
    "        a one-hot vector where the corresponding ID of the reply is the one-hot index\n",
    "    \n",
    "    \"\"\"\n",
    "    \n",
    "    Y = np.zeros(len(all_responses), dtype = int)\n",
    "    Y[all_responses[reply]] += 1\n",
    "    return Y "
   ]
  },
  {
   "cell_type": "code",
   "execution_count": 18,
   "metadata": {},
   "outputs": [],
   "source": [
    "train_y = np.array(list(df_train['helpdesk_reply'].apply(get_dummies, args = [responses])))\n",
    "valid_y = np.array(list(df_valid['helpdesk_reply'].apply(get_dummies, args = [responses])))\n",
    "test_y  = np.array(list(df_test['helpdesk_reply'].apply(get_dummies,  args = [responses])))\n",
    "LR_y    = np.array(list(df_LR['helpdesk_reply'].apply(get_dummies,    args = [responses])))"
   ]
  },
  {
   "cell_type": "code",
   "execution_count": 19,
   "metadata": {},
   "outputs": [],
   "source": [
    "train_x_word_ids = train_x_word_ids.reshape(train_x_word_ids.shape[:-1])\n",
    "val_x_word_ids   = val_x_word_ids.reshape(val_x_word_ids.shape[:-1])\n",
    "test_x_word_ids  = test_x_word_ids.reshape(test_x_word_ids.shape[:-1])\n",
    "LR_x_word_ids    = LR_x_word_ids.reshape(LR_x_word_ids.shape[:-1])"
   ]
  },
  {
   "cell_type": "markdown",
   "metadata": {},
   "source": [
    "#### Transform vectors where the input sentence yields a sequence of length 0"
   ]
  },
  {
   "cell_type": "code",
   "execution_count": 20,
   "metadata": {},
   "outputs": [],
   "source": [
    "train_zero_vectors = np.where(train_x_word_ids.sum(axis = 1) == 0.0)[0]\n",
    "for t in range(train_zero_vectors.shape[0]):\n",
    "    train_x_word_ids[train_zero_vectors[t]][0] += 1"
   ]
  },
  {
   "cell_type": "code",
   "execution_count": 21,
   "metadata": {},
   "outputs": [],
   "source": [
    "val_zero_vectors = np.where(val_x_word_ids.sum(axis = 1) == 0.0)[0]\n",
    "for t in range(val_zero_vectors.shape[0]):\n",
    "    val_x_word_ids[val_zero_vectors[t]][0] += 1"
   ]
  },
  {
   "cell_type": "markdown",
   "metadata": {},
   "source": [
    "#### Bi-directional LSTM with max pooling\n",
    "\n",
    "The network consists of an embedding layer, followed by a dropout layer. This is followed by an bi-directional LSTM layer that outputs a variable-length sequence of embedding vectors. To construct a single sentence embedding from the sequence we use max pooling. The sentence embedding is then fed to a classification layer. We train with a dropout rate of 0.5 and batch size of 32. During training we use early stopping and Adadelta as our optimization algorithm. This network has an embedding of size 300 and 256 hidden units in the biLSTM network. "
   ]
  },
  {
   "cell_type": "code",
   "execution_count": 24,
   "metadata": {},
   "outputs": [],
   "source": [
    "def bilstm_max_pooling_network(max_features, input_length=30, embed_dim=100, lstm_units=512):\n",
    "    \n",
    "    \"\"\" Constructs a bi-directional LSTM network with max pooling\n",
    "    \n",
    "    Args:\n",
    "        max_features: size of vocabulary\n",
    "        input_length: length of input sequence\n",
    "        embed_dim: dimension of the embedding vector\n",
    "        lstm_units: number of hidden units in biLSTM\n",
    "        \n",
    "        \n",
    "    Returns:\n",
    "        An biLSTM model\n",
    "    \n",
    "    \"\"\"\n",
    "    \n",
    "    inputs = Input(shape=(input_length, ))\n",
    "    x = Embedding(max_features, output_dim=embed_dim, input_length=input_length, mask_zero=True)(inputs)\n",
    "    x = (Dropout(rate = 0.5))(x)\n",
    "    x = Bidirectional(LSTM(lstm_units, activation = 'tanh', return_sequences=True,\n",
    "                           dropout=0.25, recurrent_dropout=0.5))(x)\n",
    "    x = GlobalMaxPooling1D()(x)        \n",
    "    outputs = Dense(89, activation='softmax')(x)\n",
    "    return Model(inputs=inputs, outputs=outputs)"
   ]
  },
  {
   "cell_type": "code",
   "execution_count": 51,
   "metadata": {
    "scrolled": true
   },
   "outputs": [],
   "source": [
    "max_features = len(unique_words) + 1\n",
    "model = bilstm_max_pooling_network(max_features, embed_dim=300, input_length=30, lstm_units = 256)"
   ]
  },
  {
   "cell_type": "code",
   "execution_count": 52,
   "metadata": {},
   "outputs": [
    {
     "name": "stdout",
     "output_type": "stream",
     "text": [
      "Model: \"model_2\"\n",
      "_________________________________________________________________\n",
      "Layer (type)                 Output Shape              Param #   \n",
      "=================================================================\n",
      "input_3 (InputLayer)         [(None, 30)]              0         \n",
      "_________________________________________________________________\n",
      "embedding_2 (Embedding)      (None, 30, 300)           17263500  \n",
      "_________________________________________________________________\n",
      "dropout_2 (Dropout)          (None, 30, 300)           0         \n",
      "_________________________________________________________________\n",
      "bidirectional_2 (Bidirection (None, 30, 512)           1140736   \n",
      "_________________________________________________________________\n",
      "global_max_pooling1d_2 (Glob (None, 512)               0         \n",
      "_________________________________________________________________\n",
      "dense_2 (Dense)              (None, 89)                45657     \n",
      "=================================================================\n",
      "Total params: 18,449,893\n",
      "Trainable params: 18,449,893\n",
      "Non-trainable params: 0\n",
      "_________________________________________________________________\n"
     ]
    }
   ],
   "source": [
    "model.summary()"
   ]
  },
  {
   "cell_type": "markdown",
   "metadata": {},
   "source": [
    "### Training"
   ]
  },
  {
   "cell_type": "code",
   "execution_count": 54,
   "metadata": {},
   "outputs": [],
   "source": [
    "es = EarlyStopping(monitor='val_accuracy', verbose=1, restore_best_weights=True, patience=10)\n",
    "model.compile(loss='categorical_crossentropy',\n",
    "              optimizer=tf.keras.optimizers.Adadelta(learning_rate=0.5, rho=0.95),\n",
    "              metrics=['accuracy'])"
   ]
  },
  {
   "cell_type": "code",
   "execution_count": 56,
   "metadata": {
    "scrolled": true
   },
   "outputs": [
    {
     "name": "stdout",
     "output_type": "stream",
     "text": [
      "Train on 96412 samples, validate on 31955 samples\n",
      "Epoch 1/500\n",
      "96412/96412 [==============================] - 384s 4ms/sample - loss: 2.8790 - accuracy: 0.3749 - val_loss: 2.4083 - val_accuracy: 0.4359\n",
      "Epoch 2/500\n",
      "96412/96412 [==============================] - 387s 4ms/sample - loss: 2.2292 - accuracy: 0.4605 - val_loss: 2.0541 - val_accuracy: 0.4791\n",
      "Epoch 3/500\n",
      "96412/96412 [==============================] - 387s 4ms/sample - loss: 1.9561 - accuracy: 0.4988 - val_loss: 1.8636 - val_accuracy: 0.5146\n",
      "Epoch 4/500\n",
      "96412/96412 [==============================] - 388s 4ms/sample - loss: 1.7882 - accuracy: 0.5266 - val_loss: 1.7594 - val_accuracy: 0.5239\n",
      "Epoch 5/500\n",
      "96412/96412 [==============================] - 389s 4ms/sample - loss: 1.6697 - accuracy: 0.5483 - val_loss: 1.6723 - val_accuracy: 0.5433\n",
      "Epoch 6/500\n",
      "96412/96412 [==============================] - 390s 4ms/sample - loss: 1.5783 - accuracy: 0.5642 - val_loss: 1.6297 - val_accuracy: 0.5487\n",
      "Epoch 7/500\n",
      "96412/96412 [==============================] - 388s 4ms/sample - loss: 1.5090 - accuracy: 0.5767 - val_loss: 1.5874 - val_accuracy: 0.5607\n",
      "Epoch 8/500\n",
      "96412/96412 [==============================] - 389s 4ms/sample - loss: 1.4423 - accuracy: 0.5908 - val_loss: 1.5442 - val_accuracy: 0.5684\n",
      "Epoch 9/500\n",
      "96412/96412 [==============================] - 389s 4ms/sample - loss: 1.3897 - accuracy: 0.6022 - val_loss: 1.5396 - val_accuracy: 0.5692\n",
      "Epoch 10/500\n",
      "96412/96412 [==============================] - 389s 4ms/sample - loss: 1.3427 - accuracy: 0.6118 - val_loss: 1.5105 - val_accuracy: 0.5769\n",
      "Epoch 11/500\n",
      "96412/96412 [==============================] - 389s 4ms/sample - loss: 1.2946 - accuracy: 0.6228 - val_loss: 1.5033 - val_accuracy: 0.5792\n",
      "Epoch 12/500\n",
      "96412/96412 [==============================] - 389s 4ms/sample - loss: 1.2562 - accuracy: 0.6322 - val_loss: 1.5020 - val_accuracy: 0.5767\n",
      "Epoch 13/500\n",
      "96412/96412 [==============================] - 388s 4ms/sample - loss: 1.2161 - accuracy: 0.6415 - val_loss: 1.4853 - val_accuracy: 0.5854\n",
      "Epoch 14/500\n",
      "96412/96412 [==============================] - 389s 4ms/sample - loss: 1.1818 - accuracy: 0.6503 - val_loss: 1.4777 - val_accuracy: 0.5857\n",
      "Epoch 15/500\n",
      "96412/96412 [==============================] - 389s 4ms/sample - loss: 1.1484 - accuracy: 0.6594 - val_loss: 1.4755 - val_accuracy: 0.5853\n",
      "Epoch 16/500\n",
      "96412/96412 [==============================] - 389s 4ms/sample - loss: 1.1199 - accuracy: 0.6653 - val_loss: 1.4841 - val_accuracy: 0.5844\n",
      "Epoch 17/500\n",
      "96412/96412 [==============================] - 389s 4ms/sample - loss: 1.0905 - accuracy: 0.6737 - val_loss: 1.4720 - val_accuracy: 0.5893\n",
      "Epoch 18/500\n",
      "96412/96412 [==============================] - 388s 4ms/sample - loss: 1.0629 - accuracy: 0.6807 - val_loss: 1.4625 - val_accuracy: 0.5933\n",
      "Epoch 19/500\n",
      "96412/96412 [==============================] - 389s 4ms/sample - loss: 1.0376 - accuracy: 0.6876 - val_loss: 1.4606 - val_accuracy: 0.5961\n",
      "Epoch 20/500\n",
      "96412/96412 [==============================] - 388s 4ms/sample - loss: 1.0089 - accuracy: 0.6967 - val_loss: 1.4833 - val_accuracy: 0.5926\n",
      "Epoch 21/500\n",
      "96412/96412 [==============================] - 388s 4ms/sample - loss: 0.9869 - accuracy: 0.7023 - val_loss: 1.4721 - val_accuracy: 0.5944\n",
      "Epoch 22/500\n",
      "96412/96412 [==============================] - 388s 4ms/sample - loss: 0.9628 - accuracy: 0.7096 - val_loss: 1.4964 - val_accuracy: 0.5909\n",
      "Epoch 23/500\n",
      "96412/96412 [==============================] - 389s 4ms/sample - loss: 0.9420 - accuracy: 0.7135 - val_loss: 1.4770 - val_accuracy: 0.5988\n",
      "Epoch 24/500\n",
      "96412/96412 [==============================] - 387s 4ms/sample - loss: 0.9222 - accuracy: 0.7199 - val_loss: 1.4905 - val_accuracy: 0.6006\n",
      "Epoch 25/500\n",
      "96412/96412 [==============================] - 387s 4ms/sample - loss: 0.9001 - accuracy: 0.7256 - val_loss: 1.4955 - val_accuracy: 0.5973\n",
      "Epoch 26/500\n",
      "96412/96412 [==============================] - 388s 4ms/sample - loss: 0.8834 - accuracy: 0.7298 - val_loss: 1.5013 - val_accuracy: 0.5987\n",
      "Epoch 27/500\n",
      "96412/96412 [==============================] - 388s 4ms/sample - loss: 0.8638 - accuracy: 0.7354 - val_loss: 1.5070 - val_accuracy: 0.6045\n",
      "Epoch 28/500\n",
      "96412/96412 [==============================] - 388s 4ms/sample - loss: 0.8502 - accuracy: 0.7411 - val_loss: 1.5213 - val_accuracy: 0.5986\n",
      "Epoch 29/500\n",
      "96412/96412 [==============================] - 388s 4ms/sample - loss: 0.8346 - accuracy: 0.7444 - val_loss: 1.5329 - val_accuracy: 0.5979\n",
      "Epoch 30/500\n",
      "96412/96412 [==============================] - 388s 4ms/sample - loss: 0.8203 - accuracy: 0.7487 - val_loss: 1.5263 - val_accuracy: 0.6016\n",
      "Epoch 31/500\n",
      "96412/96412 [==============================] - 387s 4ms/sample - loss: 0.8067 - accuracy: 0.7518 - val_loss: 1.5358 - val_accuracy: 0.6058\n",
      "Epoch 32/500\n",
      "96412/96412 [==============================] - 386s 4ms/sample - loss: 0.7940 - accuracy: 0.7569 - val_loss: 1.5431 - val_accuracy: 0.6014\n",
      "Epoch 33/500\n",
      "96412/96412 [==============================] - 387s 4ms/sample - loss: 0.7795 - accuracy: 0.7609 - val_loss: 1.5450 - val_accuracy: 0.6032\n",
      "Epoch 34/500\n",
      "96412/96412 [==============================] - 386s 4ms/sample - loss: 0.7690 - accuracy: 0.7628 - val_loss: 1.5534 - val_accuracy: 0.6053\n",
      "Epoch 35/500\n",
      "96412/96412 [==============================] - 387s 4ms/sample - loss: 0.7573 - accuracy: 0.7680 - val_loss: 1.5524 - val_accuracy: 0.6035\n",
      "Epoch 36/500\n",
      "96412/96412 [==============================] - 385s 4ms/sample - loss: 0.7427 - accuracy: 0.7710 - val_loss: 1.5694 - val_accuracy: 0.6024\n",
      "Epoch 37/500\n",
      "96412/96412 [==============================] - 385s 4ms/sample - loss: 0.7331 - accuracy: 0.7734 - val_loss: 1.5821 - val_accuracy: 0.6024\n",
      "Epoch 38/500\n",
      "96412/96412 [==============================] - 382s 4ms/sample - loss: 0.7224 - accuracy: 0.7767 - val_loss: 1.5808 - val_accuracy: 0.6059\n",
      "Epoch 39/500\n",
      "96412/96412 [==============================] - 260s 3ms/sample - loss: 0.7147 - accuracy: 0.7806 - val_loss: 1.6037 - val_accuracy: 0.6022\n",
      "Epoch 40/500\n",
      "96412/96412 [==============================] - 252s 3ms/sample - loss: 0.7037 - accuracy: 0.7833 - val_loss: 1.6051 - val_accuracy: 0.6019\n",
      "Epoch 41/500\n",
      "96412/96412 [==============================] - 252s 3ms/sample - loss: 0.6957 - accuracy: 0.7863 - val_loss: 1.6150 - val_accuracy: 0.6006\n",
      "Epoch 42/500\n",
      "96412/96412 [==============================] - 252s 3ms/sample - loss: 0.6867 - accuracy: 0.7889 - val_loss: 1.6271 - val_accuracy: 0.6009\n",
      "Epoch 43/500\n",
      "96412/96412 [==============================] - 252s 3ms/sample - loss: 0.6805 - accuracy: 0.7896 - val_loss: 1.6202 - val_accuracy: 0.6072\n",
      "Epoch 44/500\n",
      "96412/96412 [==============================] - 253s 3ms/sample - loss: 0.6700 - accuracy: 0.7927 - val_loss: 1.6221 - val_accuracy: 0.6063\n",
      "Epoch 45/500\n",
      "96412/96412 [==============================] - 253s 3ms/sample - loss: 0.6647 - accuracy: 0.7942 - val_loss: 1.6352 - val_accuracy: 0.6048\n",
      "Epoch 46/500\n",
      "96412/96412 [==============================] - 253s 3ms/sample - loss: 0.6510 - accuracy: 0.7994 - val_loss: 1.6484 - val_accuracy: 0.6044\n",
      "Epoch 47/500\n",
      "96412/96412 [==============================] - 252s 3ms/sample - loss: 0.6478 - accuracy: 0.7994 - val_loss: 1.6456 - val_accuracy: 0.6038\n",
      "Epoch 48/500\n",
      "96412/96412 [==============================] - 251s 3ms/sample - loss: 0.6410 - accuracy: 0.8009 - val_loss: 1.6729 - val_accuracy: 0.6003\n",
      "Epoch 49/500\n",
      "96412/96412 [==============================] - 253s 3ms/sample - loss: 0.6349 - accuracy: 0.8031 - val_loss: 1.6570 - val_accuracy: 0.6045\n",
      "Epoch 50/500\n",
      "96412/96412 [==============================] - 253s 3ms/sample - loss: 0.6292 - accuracy: 0.8047 - val_loss: 1.6856 - val_accuracy: 0.5978\n",
      "Epoch 51/500\n",
      "96412/96412 [==============================] - 223s 2ms/sample - loss: 0.6226 - accuracy: 0.8065 - val_loss: 1.6646 - val_accuracy: 0.6040\n",
      "Epoch 52/500\n",
      "96412/96412 [==============================] - 205s 2ms/sample - loss: 0.6140 - accuracy: 0.8093 - val_loss: 1.6864 - val_accuracy: 0.6035\n",
      "Epoch 53/500\n",
      "96384/96412 [============================>.] - ETA: 0s - loss: 0.6097 - accuracy: 0.8116Restoring model weights from the end of the best epoch.\n",
      "96412/96412 [==============================] - 205s 2ms/sample - loss: 0.6097 - accuracy: 0.8116 - val_loss: 1.6864 - val_accuracy: 0.6033\n"
     ]
    },
    {
     "name": "stdout",
     "output_type": "stream",
     "text": [
      "Epoch 00053: early stopping\n"
     ]
    },
    {
     "data": {
      "text/plain": [
       "<tensorflow.python.keras.callbacks.History at 0x7fbafa6daa58>"
      ]
     },
     "execution_count": 56,
     "metadata": {},
     "output_type": "execute_result"
    }
   ],
   "source": [
    "model.fit(train_x_word_ids, train_y, \n",
    "          batch_size=32,\n",
    "          epochs=500,\n",
    "          callbacks=[es],\n",
    "          validation_data=[val_x_word_ids, valid_y])"
   ]
  },
  {
   "cell_type": "markdown",
   "metadata": {},
   "source": [
    "### Test score "
   ]
  },
  {
   "cell_type": "code",
   "execution_count": 57,
   "metadata": {},
   "outputs": [],
   "source": [
    "def classifier_score_top_1(word_ids, y_true, model):\n",
    "    \n",
    "    \"\"\" Computes top-1 classification accuracy for model.\n",
    "    \n",
    "    Args:\n",
    "        word_ids: matrix where each row is \n",
    "        y_true: true labels\n",
    "        model: trained model\n",
    "    \n",
    "    Returns:\n",
    "        None\n",
    "    \n",
    "    \"\"\"\n",
    "    \n",
    "    score = 0\n",
    "    probs = model.predict(word_ids)\n",
    "    for i in range(word_ids.shape[0]):\n",
    "        if y_true[i].argmax() == np.argsort(probs[i])[-1]:\n",
    "            score += 1\n",
    "        \n",
    "    print(\"Overall Accuracy:\", score/word_ids.shape[0])"
   ]
  },
  {
   "cell_type": "code",
   "execution_count": 58,
   "metadata": {},
   "outputs": [
    {
     "name": "stdout",
     "output_type": "stream",
     "text": [
      "Overall Accuracy: 0.605683616169764\n"
     ]
    }
   ],
   "source": [
    "classifier_score_top_1(test_x_word_ids, test_y, model)"
   ]
  },
  {
   "cell_type": "markdown",
   "metadata": {},
   "source": [
    "### LR test score"
   ]
  },
  {
   "cell_type": "code",
   "execution_count": 59,
   "metadata": {},
   "outputs": [
    {
     "name": "stdout",
     "output_type": "stream",
     "text": [
      "Overall Accuracy: 0.5255408653846154\n"
     ]
    }
   ],
   "source": [
    "classifier_score_top_1(LR_x_word_ids, LR_y, model)"
   ]
  },
  {
   "cell_type": "markdown",
   "metadata": {},
   "source": [
    "### Top-5 accuracy"
   ]
  },
  {
   "cell_type": "code",
   "execution_count": 61,
   "metadata": {},
   "outputs": [],
   "source": [
    "def classifier_score_top_5(word_ids, y_true, model):\n",
    "    \n",
    "    \"\"\" Computes top-5 classification accuracy for model.\n",
    "    \n",
    "    Args:\n",
    "        word_ids: matrix where each row is \n",
    "        y_true: true labels\n",
    "        model: trained model\n",
    "        \n",
    "    Returns:\n",
    "        None\n",
    "    \n",
    "    \"\"\"\n",
    "    \n",
    "    score = 0\n",
    "    probs = model.predict(word_ids)\n",
    "    for i in range(word_ids.shape[0]):\n",
    "        if y_true[i].argmax() in np.argsort(probs[i])[-5:]:\n",
    "            score += 1\n",
    "        \n",
    "    print(\"Overall Accuracy:\", score/word_ids.shape[0])"
   ]
  },
  {
   "cell_type": "code",
   "execution_count": 62,
   "metadata": {},
   "outputs": [
    {
     "name": "stdout",
     "output_type": "stream",
     "text": [
      "Overall Accuracy: 0.8974343064561164\n"
     ]
    }
   ],
   "source": [
    "classifier_score_top_5(test_x_word_ids, test_y, model)"
   ]
  },
  {
   "cell_type": "code",
   "execution_count": 63,
   "metadata": {},
   "outputs": [
    {
     "name": "stdout",
     "output_type": "stream",
     "text": [
      "Overall Accuracy: 0.8031850961538461\n"
     ]
    }
   ],
   "source": [
    "classifier_score_top_5(LR_x_word_ids, LR_y, model)"
   ]
  }
 ],
 "metadata": {
  "kernelspec": {
   "display_name": "Python 3",
   "language": "python",
   "name": "python3"
  },
  "language_info": {
   "codemirror_mode": {
    "name": "ipython",
    "version": 3
   },
   "file_extension": ".py",
   "mimetype": "text/x-python",
   "name": "python",
   "nbconvert_exporter": "python",
   "pygments_lexer": "ipython3",
   "version": "3.6.8"
  }
 },
 "nbformat": 4,
 "nbformat_minor": 2
}
